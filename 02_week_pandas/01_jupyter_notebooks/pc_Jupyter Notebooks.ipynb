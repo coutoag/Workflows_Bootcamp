{
 "cells": [
  {
   "cell_type": "markdown",
   "id": "c38bd381",
   "metadata": {},
   "source": [
    "# WEEK 02: Jupyter Notebooks"
   ]
  },
  {
   "cell_type": "markdown",
   "id": "9685a879",
   "metadata": {},
   "source": [
    "Project Challenges: Setup your development environment"
   ]
  },
  {
   "cell_type": "markdown",
   "id": "2ba68f10",
   "metadata": {},
   "source": [
    "1.Launch VS Code and open your working-folder.\n",
    "\n",
    "2.Create a 02_pandas folder. Inside the 02_pandas create the following folders:\n",
    "* data\n",
    "* notebooks\n",
    "* weekly_project\n",
    "\n",
    "3.Download the data from https://www.ssa.gov/oact/babynames/limits.html. Take the “National data” dataset which is around 7MB large.\n",
    "\n",
    "\n",
    "4.Extract the names.zip file.\n",
    "\n",
    "5.Move all files into a data folder inside the 02_pandas\n",
    "\n",
    "6.Create a new notebook and place it inside the notebooks folder.\n"
   ]
  },
  {
   "cell_type": "code",
   "execution_count": null,
   "id": "dc0f8915",
   "metadata": {},
   "outputs": [],
   "source": []
  },
  {
   "cell_type": "code",
   "execution_count": null,
   "id": "f811edec",
   "metadata": {},
   "outputs": [],
   "source": []
  },
  {
   "cell_type": "code",
   "execution_count": null,
   "id": "fe35a97c",
   "metadata": {},
   "outputs": [],
   "source": []
  }
 ],
 "metadata": {
  "kernelspec": {
   "display_name": "Python 3 (ipykernel)",
   "language": "python",
   "name": "python3"
  },
  "language_info": {
   "codemirror_mode": {
    "name": "ipython",
    "version": 3
   },
   "file_extension": ".py",
   "mimetype": "text/x-python",
   "name": "python",
   "nbconvert_exporter": "python",
   "pygments_lexer": "ipython3",
   "version": "3.10.9"
  }
 },
 "nbformat": 4,
 "nbformat_minor": 5
}
