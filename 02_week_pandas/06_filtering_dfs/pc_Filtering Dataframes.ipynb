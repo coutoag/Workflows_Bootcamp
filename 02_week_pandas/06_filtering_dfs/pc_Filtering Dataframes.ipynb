{
 "cells": [
  {
   "cell_type": "markdown",
   "id": "b0cf0ec8",
   "metadata": {},
   "source": [
    "#### Week 2 - Data Analysis with Pandas"
   ]
  },
  {
   "cell_type": "markdown",
   "id": "b29fdbf0",
   "metadata": {},
   "source": [
    "# Lesson 6: Filtering Dataframes"
   ]
  },
  {
   "cell_type": "markdown",
   "id": "9d9703d0",
   "metadata": {},
   "source": [
    "Project Challenges: Analyzing Names"
   ]
  },
  {
   "cell_type": "markdown",
   "id": "402805b8",
   "metadata": {},
   "source": [
    "Using the baby_names_all_years.csv dataset created in Methods, Functions, and Attributes solve the following tasks with pandas:"
   ]
  },
  {
   "cell_type": "code",
   "execution_count": 1,
   "id": "1441c337",
   "metadata": {},
   "outputs": [],
   "source": [
    "import pandas as pd"
   ]
  },
  {
   "cell_type": "code",
   "execution_count": 4,
   "id": "d7a9e334",
   "metadata": {},
   "outputs": [],
   "source": [
    "# 1. Read in data:\n",
    "df = pd.read_csv('baby_names_all_years.csv')"
   ]
  },
  {
   "cell_type": "code",
   "execution_count": 5,
   "id": "1a10cb95",
   "metadata": {},
   "outputs": [
    {
     "data": {
      "text/html": [
       "<div>\n",
       "<style scoped>\n",
       "    .dataframe tbody tr th:only-of-type {\n",
       "        vertical-align: middle;\n",
       "    }\n",
       "\n",
       "    .dataframe tbody tr th {\n",
       "        vertical-align: top;\n",
       "    }\n",
       "\n",
       "    .dataframe thead th {\n",
       "        text-align: right;\n",
       "    }\n",
       "</style>\n",
       "<table border=\"1\" class=\"dataframe\">\n",
       "  <thead>\n",
       "    <tr style=\"text-align: right;\">\n",
       "      <th></th>\n",
       "      <th>name</th>\n",
       "      <th>gender</th>\n",
       "      <th>frequency</th>\n",
       "      <th>year</th>\n",
       "    </tr>\n",
       "  </thead>\n",
       "  <tbody>\n",
       "    <tr>\n",
       "      <th>0</th>\n",
       "      <td>Mary</td>\n",
       "      <td>F</td>\n",
       "      <td>7065</td>\n",
       "      <td>1880</td>\n",
       "    </tr>\n",
       "    <tr>\n",
       "      <th>1</th>\n",
       "      <td>Anna</td>\n",
       "      <td>F</td>\n",
       "      <td>2604</td>\n",
       "      <td>1880</td>\n",
       "    </tr>\n",
       "    <tr>\n",
       "      <th>2</th>\n",
       "      <td>Emma</td>\n",
       "      <td>F</td>\n",
       "      <td>2003</td>\n",
       "      <td>1880</td>\n",
       "    </tr>\n",
       "    <tr>\n",
       "      <th>3</th>\n",
       "      <td>Elizabeth</td>\n",
       "      <td>F</td>\n",
       "      <td>1939</td>\n",
       "      <td>1880</td>\n",
       "    </tr>\n",
       "    <tr>\n",
       "      <th>4</th>\n",
       "      <td>Minnie</td>\n",
       "      <td>F</td>\n",
       "      <td>1746</td>\n",
       "      <td>1880</td>\n",
       "    </tr>\n",
       "    <tr>\n",
       "      <th>...</th>\n",
       "      <td>...</td>\n",
       "      <td>...</td>\n",
       "      <td>...</td>\n",
       "      <td>...</td>\n",
       "    </tr>\n",
       "    <tr>\n",
       "      <th>2052776</th>\n",
       "      <td>Zyeire</td>\n",
       "      <td>M</td>\n",
       "      <td>5</td>\n",
       "      <td>2021</td>\n",
       "    </tr>\n",
       "    <tr>\n",
       "      <th>2052777</th>\n",
       "      <td>Zyel</td>\n",
       "      <td>M</td>\n",
       "      <td>5</td>\n",
       "      <td>2021</td>\n",
       "    </tr>\n",
       "    <tr>\n",
       "      <th>2052778</th>\n",
       "      <td>Zyian</td>\n",
       "      <td>M</td>\n",
       "      <td>5</td>\n",
       "      <td>2021</td>\n",
       "    </tr>\n",
       "    <tr>\n",
       "      <th>2052779</th>\n",
       "      <td>Zylar</td>\n",
       "      <td>M</td>\n",
       "      <td>5</td>\n",
       "      <td>2021</td>\n",
       "    </tr>\n",
       "    <tr>\n",
       "      <th>2052780</th>\n",
       "      <td>Zyn</td>\n",
       "      <td>M</td>\n",
       "      <td>5</td>\n",
       "      <td>2021</td>\n",
       "    </tr>\n",
       "  </tbody>\n",
       "</table>\n",
       "<p>2052781 rows × 4 columns</p>\n",
       "</div>"
      ],
      "text/plain": [
       "              name gender  frequency  year\n",
       "0             Mary      F       7065  1880\n",
       "1             Anna      F       2604  1880\n",
       "2             Emma      F       2003  1880\n",
       "3        Elizabeth      F       1939  1880\n",
       "4           Minnie      F       1746  1880\n",
       "...            ...    ...        ...   ...\n",
       "2052776     Zyeire      M          5  2021\n",
       "2052777       Zyel      M          5  2021\n",
       "2052778      Zyian      M          5  2021\n",
       "2052779      Zylar      M          5  2021\n",
       "2052780        Zyn      M          5  2021\n",
       "\n",
       "[2052781 rows x 4 columns]"
      ]
     },
     "execution_count": 5,
     "metadata": {},
     "output_type": "execute_result"
    }
   ],
   "source": [
    "df"
   ]
  },
  {
   "cell_type": "code",
   "execution_count": 6,
   "id": "bc271171",
   "metadata": {},
   "outputs": [
    {
     "data": {
      "text/plain": [
       "0          False\n",
       "1          False\n",
       "2          False\n",
       "3          False\n",
       "4          False\n",
       "           ...  \n",
       "2052776    False\n",
       "2052777    False\n",
       "2052778    False\n",
       "2052779    False\n",
       "2052780    False\n",
       "Name: name, Length: 2052781, dtype: bool"
      ]
     },
     "execution_count": 6,
     "metadata": {},
     "output_type": "execute_result"
    }
   ],
   "source": [
    "# 2. Create a boolean mask for the name 'Martin'. It should just be a Series of True and False values.\n",
    "\n",
    "boolean_mask = df[\"name\"] == \"Martin\"\n",
    "boolean_mask"
   ]
  },
  {
   "cell_type": "code",
   "execution_count": 7,
   "id": "1b44e18d",
   "metadata": {},
   "outputs": [
    {
     "data": {
      "text/html": [
       "<div>\n",
       "<style scoped>\n",
       "    .dataframe tbody tr th:only-of-type {\n",
       "        vertical-align: middle;\n",
       "    }\n",
       "\n",
       "    .dataframe tbody tr th {\n",
       "        vertical-align: top;\n",
       "    }\n",
       "\n",
       "    .dataframe thead th {\n",
       "        text-align: right;\n",
       "    }\n",
       "</style>\n",
       "<table border=\"1\" class=\"dataframe\">\n",
       "  <thead>\n",
       "    <tr style=\"text-align: right;\">\n",
       "      <th></th>\n",
       "      <th>name</th>\n",
       "      <th>gender</th>\n",
       "      <th>frequency</th>\n",
       "      <th>year</th>\n",
       "    </tr>\n",
       "  </thead>\n",
       "  <tbody>\n",
       "    <tr>\n",
       "      <th>986</th>\n",
       "      <td>Martin</td>\n",
       "      <td>M</td>\n",
       "      <td>357</td>\n",
       "      <td>1880</td>\n",
       "    </tr>\n",
       "    <tr>\n",
       "      <th>2983</th>\n",
       "      <td>Martin</td>\n",
       "      <td>M</td>\n",
       "      <td>327</td>\n",
       "      <td>1881</td>\n",
       "    </tr>\n",
       "    <tr>\n",
       "      <th>5009</th>\n",
       "      <td>Martin</td>\n",
       "      <td>M</td>\n",
       "      <td>387</td>\n",
       "      <td>1882</td>\n",
       "    </tr>\n",
       "    <tr>\n",
       "      <th>7160</th>\n",
       "      <td>Martin</td>\n",
       "      <td>M</td>\n",
       "      <td>377</td>\n",
       "      <td>1883</td>\n",
       "    </tr>\n",
       "    <tr>\n",
       "      <th>9365</th>\n",
       "      <td>Martin</td>\n",
       "      <td>M</td>\n",
       "      <td>385</td>\n",
       "      <td>1884</td>\n",
       "    </tr>\n",
       "    <tr>\n",
       "      <th>...</th>\n",
       "      <td>...</td>\n",
       "      <td>...</td>\n",
       "      <td>...</td>\n",
       "      <td>...</td>\n",
       "    </tr>\n",
       "    <tr>\n",
       "      <th>1911563</th>\n",
       "      <td>Martin</td>\n",
       "      <td>M</td>\n",
       "      <td>1282</td>\n",
       "      <td>2017</td>\n",
       "    </tr>\n",
       "    <tr>\n",
       "      <th>1943908</th>\n",
       "      <td>Martin</td>\n",
       "      <td>M</td>\n",
       "      <td>1295</td>\n",
       "      <td>2018</td>\n",
       "    </tr>\n",
       "    <tr>\n",
       "      <th>1975970</th>\n",
       "      <td>Martin</td>\n",
       "      <td>M</td>\n",
       "      <td>1248</td>\n",
       "      <td>2019</td>\n",
       "    </tr>\n",
       "    <tr>\n",
       "      <th>2007530</th>\n",
       "      <td>Martin</td>\n",
       "      <td>M</td>\n",
       "      <td>1163</td>\n",
       "      <td>2020</td>\n",
       "    </tr>\n",
       "    <tr>\n",
       "      <th>2039089</th>\n",
       "      <td>Martin</td>\n",
       "      <td>M</td>\n",
       "      <td>1089</td>\n",
       "      <td>2021</td>\n",
       "    </tr>\n",
       "  </tbody>\n",
       "</table>\n",
       "<p>242 rows × 4 columns</p>\n",
       "</div>"
      ],
      "text/plain": [
       "           name gender  frequency  year\n",
       "986      Martin      M        357  1880\n",
       "2983     Martin      M        327  1881\n",
       "5009     Martin      M        387  1882\n",
       "7160     Martin      M        377  1883\n",
       "9365     Martin      M        385  1884\n",
       "...         ...    ...        ...   ...\n",
       "1911563  Martin      M       1282  2017\n",
       "1943908  Martin      M       1295  2018\n",
       "1975970  Martin      M       1248  2019\n",
       "2007530  Martin      M       1163  2020\n",
       "2039089  Martin      M       1089  2021\n",
       "\n",
       "[242 rows x 4 columns]"
      ]
     },
     "execution_count": 7,
     "metadata": {},
     "output_type": "execute_result"
    }
   ],
   "source": [
    "# 3. Use this boolean mask to filter your original DataFrame and display a DataFrame which only has babies names 'Martin'. \n",
    "\n",
    "martin = df.loc[df[\"name\"] == \"Martin\"]\n",
    "martin"
   ]
  },
  {
   "cell_type": "code",
   "execution_count": 8,
   "id": "edfb0d0d",
   "metadata": {},
   "outputs": [
    {
     "data": {
      "text/plain": [
       "name         242\n",
       "gender       242\n",
       "frequency    242\n",
       "year         242\n",
       "dtype: int64"
      ]
     },
     "execution_count": 8,
     "metadata": {},
     "output_type": "execute_result"
    }
   ],
   "source": [
    "# 4. How many entries are the in the 'Martin' DataFrame? How many years are in the DataFrame? Why are there more entries of the name 'Martin' than years? In how many years does the name 'Martin' appear for both genders?\n",
    "\n",
    "martin.count()"
   ]
  },
  {
   "cell_type": "code",
   "execution_count": 10,
   "id": "432aa216",
   "metadata": {},
   "outputs": [
    {
     "data": {
      "text/html": [
       "<div>\n",
       "<style scoped>\n",
       "    .dataframe tbody tr th:only-of-type {\n",
       "        vertical-align: middle;\n",
       "    }\n",
       "\n",
       "    .dataframe tbody tr th {\n",
       "        vertical-align: top;\n",
       "    }\n",
       "\n",
       "    .dataframe thead th {\n",
       "        text-align: right;\n",
       "    }\n",
       "</style>\n",
       "<table border=\"1\" class=\"dataframe\">\n",
       "  <thead>\n",
       "    <tr style=\"text-align: right;\">\n",
       "      <th></th>\n",
       "      <th>name</th>\n",
       "      <th>gender</th>\n",
       "      <th>frequency</th>\n",
       "      <th>year</th>\n",
       "    </tr>\n",
       "  </thead>\n",
       "  <tbody>\n",
       "    <tr>\n",
       "      <th>431064</th>\n",
       "      <td>Linda</td>\n",
       "      <td>F</td>\n",
       "      <td>99693</td>\n",
       "      <td>1947</td>\n",
       "    </tr>\n",
       "    <tr>\n",
       "      <th>441435</th>\n",
       "      <td>Linda</td>\n",
       "      <td>F</td>\n",
       "      <td>96212</td>\n",
       "      <td>1948</td>\n",
       "    </tr>\n",
       "    <tr>\n",
       "      <th>437168</th>\n",
       "      <td>James</td>\n",
       "      <td>M</td>\n",
       "      <td>94762</td>\n",
       "      <td>1947</td>\n",
       "    </tr>\n",
       "    <tr>\n",
       "      <th>544671</th>\n",
       "      <td>Michael</td>\n",
       "      <td>M</td>\n",
       "      <td>92723</td>\n",
       "      <td>1957</td>\n",
       "    </tr>\n",
       "    <tr>\n",
       "      <th>437169</th>\n",
       "      <td>Robert</td>\n",
       "      <td>M</td>\n",
       "      <td>91651</td>\n",
       "      <td>1947</td>\n",
       "    </tr>\n",
       "    <tr>\n",
       "      <th>...</th>\n",
       "      <td>...</td>\n",
       "      <td>...</td>\n",
       "      <td>...</td>\n",
       "      <td>...</td>\n",
       "    </tr>\n",
       "    <tr>\n",
       "      <th>1350848</th>\n",
       "      <td>Peyton</td>\n",
       "      <td>M</td>\n",
       "      <td>2001</td>\n",
       "      <td>2000</td>\n",
       "    </tr>\n",
       "    <tr>\n",
       "      <th>994596</th>\n",
       "      <td>Drew</td>\n",
       "      <td>M</td>\n",
       "      <td>2001</td>\n",
       "      <td>1986</td>\n",
       "    </tr>\n",
       "    <tr>\n",
       "      <th>1793558</th>\n",
       "      <td>Emilia</td>\n",
       "      <td>F</td>\n",
       "      <td>2001</td>\n",
       "      <td>2014</td>\n",
       "    </tr>\n",
       "    <tr>\n",
       "      <th>62536</th>\n",
       "      <td>Irene</td>\n",
       "      <td>F</td>\n",
       "      <td>2001</td>\n",
       "      <td>1903</td>\n",
       "    </tr>\n",
       "    <tr>\n",
       "      <th>604375</th>\n",
       "      <td>Lance</td>\n",
       "      <td>M</td>\n",
       "      <td>2001</td>\n",
       "      <td>1962</td>\n",
       "    </tr>\n",
       "  </tbody>\n",
       "</table>\n",
       "<p>32445 rows × 4 columns</p>\n",
       "</div>"
      ],
      "text/plain": [
       "            name gender  frequency  year\n",
       "431064     Linda      F      99693  1947\n",
       "441435     Linda      F      96212  1948\n",
       "437168     James      M      94762  1947\n",
       "544671   Michael      M      92723  1957\n",
       "437169    Robert      M      91651  1947\n",
       "...          ...    ...        ...   ...\n",
       "1350848   Peyton      M       2001  2000\n",
       "994596      Drew      M       2001  1986\n",
       "1793558   Emilia      F       2001  2014\n",
       "62536      Irene      F       2001  1903\n",
       "604375     Lance      M       2001  1962\n",
       "\n",
       "[32445 rows x 4 columns]"
      ]
     },
     "execution_count": 10,
     "metadata": {},
     "output_type": "execute_result"
    }
   ],
   "source": [
    "# 5. Filter the combined DataFrame for a DataFrame which only has names that have a frequency over 2000\n",
    "\n",
    "frequency_over_2000 = df.loc[df[\"frequency\"] > 2000]\n",
    "frequency_over_2000.sort_values(by=[\"frequency\"], ascending = False)"
   ]
  },
  {
   "cell_type": "code",
   "execution_count": 13,
   "id": "b7ff8d4c",
   "metadata": {},
   "outputs": [],
   "source": [
    "# 6. Filter the combined DataFrame for a DataFrame which only has names that have a frequency \n",
    "#over 2000 and for years starting with 2000. \n",
    "\n",
    "year_frequency_over_2000 = df.loc[boolean_mask]"
   ]
  },
  {
   "cell_type": "code",
   "execution_count": 14,
   "id": "11a7219d",
   "metadata": {},
   "outputs": [
    {
     "data": {
      "text/html": [
       "<div>\n",
       "<style scoped>\n",
       "    .dataframe tbody tr th:only-of-type {\n",
       "        vertical-align: middle;\n",
       "    }\n",
       "\n",
       "    .dataframe tbody tr th {\n",
       "        vertical-align: top;\n",
       "    }\n",
       "\n",
       "    .dataframe thead th {\n",
       "        text-align: right;\n",
       "    }\n",
       "</style>\n",
       "<table border=\"1\" class=\"dataframe\">\n",
       "  <thead>\n",
       "    <tr style=\"text-align: right;\">\n",
       "      <th></th>\n",
       "      <th>name</th>\n",
       "      <th>gender</th>\n",
       "      <th>frequency</th>\n",
       "      <th>year</th>\n",
       "    </tr>\n",
       "  </thead>\n",
       "  <tbody>\n",
       "    <tr>\n",
       "      <th>1333008</th>\n",
       "      <td>Emily</td>\n",
       "      <td>F</td>\n",
       "      <td>25957</td>\n",
       "      <td>2000</td>\n",
       "    </tr>\n",
       "    <tr>\n",
       "      <th>1333009</th>\n",
       "      <td>Hannah</td>\n",
       "      <td>F</td>\n",
       "      <td>23085</td>\n",
       "      <td>2000</td>\n",
       "    </tr>\n",
       "    <tr>\n",
       "      <th>1333010</th>\n",
       "      <td>Madison</td>\n",
       "      <td>F</td>\n",
       "      <td>19968</td>\n",
       "      <td>2000</td>\n",
       "    </tr>\n",
       "    <tr>\n",
       "      <th>1333011</th>\n",
       "      <td>Ashley</td>\n",
       "      <td>F</td>\n",
       "      <td>17997</td>\n",
       "      <td>2000</td>\n",
       "    </tr>\n",
       "    <tr>\n",
       "      <th>1333012</th>\n",
       "      <td>Sarah</td>\n",
       "      <td>F</td>\n",
       "      <td>17708</td>\n",
       "      <td>2000</td>\n",
       "    </tr>\n",
       "    <tr>\n",
       "      <th>...</th>\n",
       "      <td>...</td>\n",
       "      <td>...</td>\n",
       "      <td>...</td>\n",
       "      <td>...</td>\n",
       "    </tr>\n",
       "    <tr>\n",
       "      <th>2038969</th>\n",
       "      <td>Kevin</td>\n",
       "      <td>M</td>\n",
       "      <td>2094</td>\n",
       "      <td>2021</td>\n",
       "    </tr>\n",
       "    <tr>\n",
       "      <th>2038970</th>\n",
       "      <td>Judah</td>\n",
       "      <td>M</td>\n",
       "      <td>2093</td>\n",
       "      <td>2021</td>\n",
       "    </tr>\n",
       "    <tr>\n",
       "      <th>2038971</th>\n",
       "      <td>Finn</td>\n",
       "      <td>M</td>\n",
       "      <td>2082</td>\n",
       "      <td>2021</td>\n",
       "    </tr>\n",
       "    <tr>\n",
       "      <th>2038972</th>\n",
       "      <td>King</td>\n",
       "      <td>M</td>\n",
       "      <td>2028</td>\n",
       "      <td>2021</td>\n",
       "    </tr>\n",
       "    <tr>\n",
       "      <th>2038973</th>\n",
       "      <td>Brody</td>\n",
       "      <td>M</td>\n",
       "      <td>2025</td>\n",
       "      <td>2021</td>\n",
       "    </tr>\n",
       "  </tbody>\n",
       "</table>\n",
       "<p>7703 rows × 4 columns</p>\n",
       "</div>"
      ],
      "text/plain": [
       "            name gender  frequency  year\n",
       "1333008    Emily      F      25957  2000\n",
       "1333009   Hannah      F      23085  2000\n",
       "1333010  Madison      F      19968  2000\n",
       "1333011   Ashley      F      17997  2000\n",
       "1333012    Sarah      F      17708  2000\n",
       "...          ...    ...        ...   ...\n",
       "2038969    Kevin      M       2094  2021\n",
       "2038970    Judah      M       2093  2021\n",
       "2038971     Finn      M       2082  2021\n",
       "2038972     King      M       2028  2021\n",
       "2038973    Brody      M       2025  2021\n",
       "\n",
       "[7703 rows x 4 columns]"
      ]
     },
     "execution_count": 14,
     "metadata": {},
     "output_type": "execute_result"
    }
   ],
   "source": [
    "year_frequency_over_2000"
   ]
  },
  {
   "cell_type": "code",
   "execution_count": 15,
   "id": "87bc9117",
   "metadata": {},
   "outputs": [
    {
     "data": {
      "text/html": [
       "<div>\n",
       "<style scoped>\n",
       "    .dataframe tbody tr th:only-of-type {\n",
       "        vertical-align: middle;\n",
       "    }\n",
       "\n",
       "    .dataframe tbody tr th {\n",
       "        vertical-align: top;\n",
       "    }\n",
       "\n",
       "    .dataframe thead th {\n",
       "        text-align: right;\n",
       "    }\n",
       "</style>\n",
       "<table border=\"1\" class=\"dataframe\">\n",
       "  <thead>\n",
       "    <tr style=\"text-align: right;\">\n",
       "      <th></th>\n",
       "      <th>name</th>\n",
       "      <th>gender</th>\n",
       "      <th>frequency</th>\n",
       "      <th>year</th>\n",
       "    </tr>\n",
       "  </thead>\n",
       "  <tbody>\n",
       "    <tr>\n",
       "      <th>1350666</th>\n",
       "      <td>Jacob</td>\n",
       "      <td>M</td>\n",
       "      <td>34489</td>\n",
       "      <td>2000</td>\n",
       "    </tr>\n",
       "    <tr>\n",
       "      <th>1380760</th>\n",
       "      <td>Jacob</td>\n",
       "      <td>M</td>\n",
       "      <td>32560</td>\n",
       "      <td>2001</td>\n",
       "    </tr>\n",
       "    <tr>\n",
       "      <th>1350667</th>\n",
       "      <td>Michael</td>\n",
       "      <td>M</td>\n",
       "      <td>32040</td>\n",
       "      <td>2000</td>\n",
       "    </tr>\n",
       "    <tr>\n",
       "      <th>1411148</th>\n",
       "      <td>Jacob</td>\n",
       "      <td>M</td>\n",
       "      <td>30580</td>\n",
       "      <td>2002</td>\n",
       "    </tr>\n",
       "    <tr>\n",
       "      <th>1380761</th>\n",
       "      <td>Michael</td>\n",
       "      <td>M</td>\n",
       "      <td>29687</td>\n",
       "      <td>2001</td>\n",
       "    </tr>\n",
       "    <tr>\n",
       "      <th>...</th>\n",
       "      <td>...</td>\n",
       "      <td>...</td>\n",
       "      <td>...</td>\n",
       "      <td>...</td>\n",
       "    </tr>\n",
       "    <tr>\n",
       "      <th>1911479</th>\n",
       "      <td>Lorenzo</td>\n",
       "      <td>M</td>\n",
       "      <td>2003</td>\n",
       "      <td>2017</td>\n",
       "    </tr>\n",
       "    <tr>\n",
       "      <th>1643965</th>\n",
       "      <td>Erick</td>\n",
       "      <td>M</td>\n",
       "      <td>2003</td>\n",
       "      <td>2009</td>\n",
       "    </tr>\n",
       "    <tr>\n",
       "      <th>1454992</th>\n",
       "      <td>Delaney</td>\n",
       "      <td>F</td>\n",
       "      <td>2002</td>\n",
       "      <td>2004</td>\n",
       "    </tr>\n",
       "    <tr>\n",
       "      <th>1793558</th>\n",
       "      <td>Emilia</td>\n",
       "      <td>F</td>\n",
       "      <td>2001</td>\n",
       "      <td>2014</td>\n",
       "    </tr>\n",
       "    <tr>\n",
       "      <th>1350848</th>\n",
       "      <td>Peyton</td>\n",
       "      <td>M</td>\n",
       "      <td>2001</td>\n",
       "      <td>2000</td>\n",
       "    </tr>\n",
       "  </tbody>\n",
       "</table>\n",
       "<p>7703 rows × 4 columns</p>\n",
       "</div>"
      ],
      "text/plain": [
       "            name gender  frequency  year\n",
       "1350666    Jacob      M      34489  2000\n",
       "1380760    Jacob      M      32560  2001\n",
       "1350667  Michael      M      32040  2000\n",
       "1411148    Jacob      M      30580  2002\n",
       "1380761  Michael      M      29687  2001\n",
       "...          ...    ...        ...   ...\n",
       "1911479  Lorenzo      M       2003  2017\n",
       "1643965    Erick      M       2003  2009\n",
       "1454992  Delaney      F       2002  2004\n",
       "1793558   Emilia      F       2001  2014\n",
       "1350848   Peyton      M       2001  2000\n",
       "\n",
       "[7703 rows x 4 columns]"
      ]
     },
     "execution_count": 15,
     "metadata": {},
     "output_type": "execute_result"
    }
   ],
   "source": [
    "#What is the most common name since 2000?\n",
    "\n",
    "year_frequency_over_2000.sort_values(by=[\"frequency\"], ascending=False)"
   ]
  },
  {
   "cell_type": "code",
   "execution_count": null,
   "id": "43388f4a",
   "metadata": {},
   "outputs": [],
   "source": []
  },
  {
   "cell_type": "code",
   "execution_count": 39,
   "id": "c37d0597",
   "metadata": {},
   "outputs": [
    {
     "data": {
      "text/plain": [
       "0          False\n",
       "1          False\n",
       "2          False\n",
       "3          False\n",
       "4          False\n",
       "           ...  \n",
       "2052776    False\n",
       "2052777    False\n",
       "2052778    False\n",
       "2052779    False\n",
       "2052780    False\n",
       "Length: 2052781, dtype: bool"
      ]
     },
     "execution_count": 39,
     "metadata": {},
     "output_type": "execute_result"
    }
   ],
   "source": [
    "# 7. Filter the combined DataFrame for a DataFrame which only has names that have a \n",
    "#frequency over 2000, for years starting with 2000 and for only females. \n",
    "\n",
    "boolean_mask = (df[\"frequency\"] > 2000) & (df[\"year\"] >= 2000) & (df[\"gender\"] == \"F\")\n",
    "boolean_mask"
   ]
  },
  {
   "cell_type": "code",
   "execution_count": 34,
   "id": "fb49ec46",
   "metadata": {},
   "outputs": [
    {
     "data": {
      "text/html": [
       "<div>\n",
       "<style scoped>\n",
       "    .dataframe tbody tr th:only-of-type {\n",
       "        vertical-align: middle;\n",
       "    }\n",
       "\n",
       "    .dataframe tbody tr th {\n",
       "        vertical-align: top;\n",
       "    }\n",
       "\n",
       "    .dataframe thead th {\n",
       "        text-align: right;\n",
       "    }\n",
       "</style>\n",
       "<table border=\"1\" class=\"dataframe\">\n",
       "  <thead>\n",
       "    <tr style=\"text-align: right;\">\n",
       "      <th></th>\n",
       "      <th>name</th>\n",
       "      <th>gender</th>\n",
       "      <th>frequency</th>\n",
       "      <th>year</th>\n",
       "    </tr>\n",
       "  </thead>\n",
       "  <tbody>\n",
       "    <tr>\n",
       "      <th>1333008</th>\n",
       "      <td>Emily</td>\n",
       "      <td>F</td>\n",
       "      <td>25957</td>\n",
       "      <td>2000</td>\n",
       "    </tr>\n",
       "    <tr>\n",
       "      <th>1333009</th>\n",
       "      <td>Hannah</td>\n",
       "      <td>F</td>\n",
       "      <td>23085</td>\n",
       "      <td>2000</td>\n",
       "    </tr>\n",
       "    <tr>\n",
       "      <th>1333010</th>\n",
       "      <td>Madison</td>\n",
       "      <td>F</td>\n",
       "      <td>19968</td>\n",
       "      <td>2000</td>\n",
       "    </tr>\n",
       "    <tr>\n",
       "      <th>1333011</th>\n",
       "      <td>Ashley</td>\n",
       "      <td>F</td>\n",
       "      <td>17997</td>\n",
       "      <td>2000</td>\n",
       "    </tr>\n",
       "    <tr>\n",
       "      <th>1333012</th>\n",
       "      <td>Sarah</td>\n",
       "      <td>F</td>\n",
       "      <td>17708</td>\n",
       "      <td>2000</td>\n",
       "    </tr>\n",
       "    <tr>\n",
       "      <th>...</th>\n",
       "      <td>...</td>\n",
       "      <td>...</td>\n",
       "      <td>...</td>\n",
       "      <td>...</td>\n",
       "    </tr>\n",
       "    <tr>\n",
       "      <th>2021375</th>\n",
       "      <td>Cecilia</td>\n",
       "      <td>F</td>\n",
       "      <td>2085</td>\n",
       "      <td>2021</td>\n",
       "    </tr>\n",
       "    <tr>\n",
       "      <th>2021376</th>\n",
       "      <td>Mary</td>\n",
       "      <td>F</td>\n",
       "      <td>2080</td>\n",
       "      <td>2021</td>\n",
       "    </tr>\n",
       "    <tr>\n",
       "      <th>2021377</th>\n",
       "      <td>Daisy</td>\n",
       "      <td>F</td>\n",
       "      <td>2062</td>\n",
       "      <td>2021</td>\n",
       "    </tr>\n",
       "    <tr>\n",
       "      <th>2021378</th>\n",
       "      <td>Alina</td>\n",
       "      <td>F</td>\n",
       "      <td>2017</td>\n",
       "      <td>2021</td>\n",
       "    </tr>\n",
       "    <tr>\n",
       "      <th>2021379</th>\n",
       "      <td>Lucia</td>\n",
       "      <td>F</td>\n",
       "      <td>2006</td>\n",
       "      <td>2021</td>\n",
       "    </tr>\n",
       "  </tbody>\n",
       "</table>\n",
       "<p>3460 rows × 4 columns</p>\n",
       "</div>"
      ],
      "text/plain": [
       "            name gender  frequency  year\n",
       "1333008    Emily      F      25957  2000\n",
       "1333009   Hannah      F      23085  2000\n",
       "1333010  Madison      F      19968  2000\n",
       "1333011   Ashley      F      17997  2000\n",
       "1333012    Sarah      F      17708  2000\n",
       "...          ...    ...        ...   ...\n",
       "2021375  Cecilia      F       2085  2021\n",
       "2021376     Mary      F       2080  2021\n",
       "2021377    Daisy      F       2062  2021\n",
       "2021378    Alina      F       2017  2021\n",
       "2021379    Lucia      F       2006  2021\n",
       "\n",
       "[3460 rows x 4 columns]"
      ]
     },
     "execution_count": 34,
     "metadata": {},
     "output_type": "execute_result"
    }
   ],
   "source": [
    "females_2000 = df.loc[boolean_mask]\n",
    "females_2000"
   ]
  },
  {
   "cell_type": "code",
   "execution_count": 44,
   "id": "45eb49f9",
   "metadata": {},
   "outputs": [
    {
     "data": {
      "text/plain": [
       "array(['F'], dtype=object)"
      ]
     },
     "execution_count": 44,
     "metadata": {},
     "output_type": "execute_result"
    }
   ],
   "source": [
    "only_females_2000[\"gender\"].unique()"
   ]
  },
  {
   "cell_type": "code",
   "execution_count": 46,
   "id": "e1d64b40",
   "metadata": {},
   "outputs": [
    {
     "data": {
      "text/plain": [
       "name          303\n",
       "gender          1\n",
       "frequency    2587\n",
       "year           22\n",
       "dtype: int64"
      ]
     },
     "execution_count": 46,
     "metadata": {},
     "output_type": "execute_result"
    }
   ],
   "source": [
    "only_females_2000.nunique()"
   ]
  },
  {
   "cell_type": "code",
   "execution_count": 29,
   "id": "32e480f4",
   "metadata": {},
   "outputs": [],
   "source": [
    "#What is the most common name given to females since 2000?"
   ]
  },
  {
   "cell_type": "code",
   "execution_count": 47,
   "id": "2aa296ee",
   "metadata": {},
   "outputs": [
    {
     "data": {
      "text/plain": [
       "25957"
      ]
     },
     "execution_count": 47,
     "metadata": {},
     "output_type": "execute_result"
    }
   ],
   "source": [
    "female_name = only_females_2000[\"frequency\"].max()\n",
    "female_name"
   ]
  },
  {
   "cell_type": "code",
   "execution_count": 31,
   "id": "4c74e2a6",
   "metadata": {},
   "outputs": [
    {
     "data": {
      "text/html": [
       "<div>\n",
       "<style scoped>\n",
       "    .dataframe tbody tr th:only-of-type {\n",
       "        vertical-align: middle;\n",
       "    }\n",
       "\n",
       "    .dataframe tbody tr th {\n",
       "        vertical-align: top;\n",
       "    }\n",
       "\n",
       "    .dataframe thead th {\n",
       "        text-align: right;\n",
       "    }\n",
       "</style>\n",
       "<table border=\"1\" class=\"dataframe\">\n",
       "  <thead>\n",
       "    <tr style=\"text-align: right;\">\n",
       "      <th></th>\n",
       "      <th>name</th>\n",
       "      <th>gender</th>\n",
       "      <th>frequency</th>\n",
       "      <th>year</th>\n",
       "    </tr>\n",
       "  </thead>\n",
       "  <tbody>\n",
       "    <tr>\n",
       "      <th>1350666</th>\n",
       "      <td>Jacob</td>\n",
       "      <td>M</td>\n",
       "      <td>34489</td>\n",
       "      <td>2000</td>\n",
       "    </tr>\n",
       "  </tbody>\n",
       "</table>\n",
       "</div>"
      ],
      "text/plain": [
       "          name gender  frequency  year\n",
       "1350666  Jacob      M      34489  2000"
      ]
     },
     "execution_count": 31,
     "metadata": {},
     "output_type": "execute_result"
    }
   ],
   "source": [
    "females_2000.loc[females_2000[\"frequency\"] == f_name]"
   ]
  },
  {
   "cell_type": "code",
   "execution_count": 49,
   "id": "21596607",
   "metadata": {},
   "outputs": [
    {
     "data": {
      "text/html": [
       "<div>\n",
       "<style scoped>\n",
       "    .dataframe tbody tr th:only-of-type {\n",
       "        vertical-align: middle;\n",
       "    }\n",
       "\n",
       "    .dataframe tbody tr th {\n",
       "        vertical-align: top;\n",
       "    }\n",
       "\n",
       "    .dataframe thead th {\n",
       "        text-align: right;\n",
       "    }\n",
       "</style>\n",
       "<table border=\"1\" class=\"dataframe\">\n",
       "  <thead>\n",
       "    <tr style=\"text-align: right;\">\n",
       "      <th></th>\n",
       "      <th>name</th>\n",
       "      <th>gender</th>\n",
       "      <th>frequency</th>\n",
       "      <th>year</th>\n",
       "    </tr>\n",
       "  </thead>\n",
       "  <tbody>\n",
       "    <tr>\n",
       "      <th>1333008</th>\n",
       "      <td>Emily</td>\n",
       "      <td>F</td>\n",
       "      <td>25957</td>\n",
       "      <td>2000</td>\n",
       "    </tr>\n",
       "  </tbody>\n",
       "</table>\n",
       "</div>"
      ],
      "text/plain": [
       "          name gender  frequency  year\n",
       "1333008  Emily      F      25957  2000"
      ]
     },
     "execution_count": 49,
     "metadata": {},
     "output_type": "execute_result"
    }
   ],
   "source": [
    "only_females_2000.loc[only_females_2000[\"frequency\"] == female_name]"
   ]
  },
  {
   "cell_type": "code",
   "execution_count": null,
   "id": "13993cde",
   "metadata": {},
   "outputs": [],
   "source": []
  },
  {
   "cell_type": "code",
   "execution_count": 50,
   "id": "939dadea",
   "metadata": {},
   "outputs": [],
   "source": [
    "# 8. What is the percentage of names that have a frequency larger than 100?\n",
    "\n",
    "boolean_mask = df[\"frequency\"] > 100"
   ]
  },
  {
   "cell_type": "code",
   "execution_count": 52,
   "id": "289d623f",
   "metadata": {},
   "outputs": [
    {
     "data": {
      "text/html": [
       "<div>\n",
       "<style scoped>\n",
       "    .dataframe tbody tr th:only-of-type {\n",
       "        vertical-align: middle;\n",
       "    }\n",
       "\n",
       "    .dataframe tbody tr th {\n",
       "        vertical-align: top;\n",
       "    }\n",
       "\n",
       "    .dataframe thead th {\n",
       "        text-align: right;\n",
       "    }\n",
       "</style>\n",
       "<table border=\"1\" class=\"dataframe\">\n",
       "  <thead>\n",
       "    <tr style=\"text-align: right;\">\n",
       "      <th></th>\n",
       "      <th>name</th>\n",
       "      <th>gender</th>\n",
       "      <th>frequency</th>\n",
       "      <th>year</th>\n",
       "    </tr>\n",
       "  </thead>\n",
       "  <tbody>\n",
       "    <tr>\n",
       "      <th>0</th>\n",
       "      <td>Mary</td>\n",
       "      <td>F</td>\n",
       "      <td>7065</td>\n",
       "      <td>1880</td>\n",
       "    </tr>\n",
       "    <tr>\n",
       "      <th>1</th>\n",
       "      <td>Anna</td>\n",
       "      <td>F</td>\n",
       "      <td>2604</td>\n",
       "      <td>1880</td>\n",
       "    </tr>\n",
       "    <tr>\n",
       "      <th>2</th>\n",
       "      <td>Emma</td>\n",
       "      <td>F</td>\n",
       "      <td>2003</td>\n",
       "      <td>1880</td>\n",
       "    </tr>\n",
       "    <tr>\n",
       "      <th>3</th>\n",
       "      <td>Elizabeth</td>\n",
       "      <td>F</td>\n",
       "      <td>1939</td>\n",
       "      <td>1880</td>\n",
       "    </tr>\n",
       "    <tr>\n",
       "      <th>4</th>\n",
       "      <td>Minnie</td>\n",
       "      <td>F</td>\n",
       "      <td>1746</td>\n",
       "      <td>1880</td>\n",
       "    </tr>\n",
       "    <tr>\n",
       "      <th>...</th>\n",
       "      <td>...</td>\n",
       "      <td>...</td>\n",
       "      <td>...</td>\n",
       "      <td>...</td>\n",
       "    </tr>\n",
       "    <tr>\n",
       "      <th>2040426</th>\n",
       "      <td>Mahir</td>\n",
       "      <td>M</td>\n",
       "      <td>101</td>\n",
       "      <td>2021</td>\n",
       "    </tr>\n",
       "    <tr>\n",
       "      <th>2040427</th>\n",
       "      <td>Nael</td>\n",
       "      <td>M</td>\n",
       "      <td>101</td>\n",
       "      <td>2021</td>\n",
       "    </tr>\n",
       "    <tr>\n",
       "      <th>2040428</th>\n",
       "      <td>Noam</td>\n",
       "      <td>M</td>\n",
       "      <td>101</td>\n",
       "      <td>2021</td>\n",
       "    </tr>\n",
       "    <tr>\n",
       "      <th>2040429</th>\n",
       "      <td>Syrus</td>\n",
       "      <td>M</td>\n",
       "      <td>101</td>\n",
       "      <td>2021</td>\n",
       "    </tr>\n",
       "    <tr>\n",
       "      <th>2040430</th>\n",
       "      <td>Tyrell</td>\n",
       "      <td>M</td>\n",
       "      <td>101</td>\n",
       "      <td>2021</td>\n",
       "    </tr>\n",
       "  </tbody>\n",
       "</table>\n",
       "<p>244408 rows × 4 columns</p>\n",
       "</div>"
      ],
      "text/plain": [
       "              name gender  frequency  year\n",
       "0             Mary      F       7065  1880\n",
       "1             Anna      F       2604  1880\n",
       "2             Emma      F       2003  1880\n",
       "3        Elizabeth      F       1939  1880\n",
       "4           Minnie      F       1746  1880\n",
       "...            ...    ...        ...   ...\n",
       "2040426      Mahir      M        101  2021\n",
       "2040427       Nael      M        101  2021\n",
       "2040428       Noam      M        101  2021\n",
       "2040429      Syrus      M        101  2021\n",
       "2040430     Tyrell      M        101  2021\n",
       "\n",
       "[244408 rows x 4 columns]"
      ]
     },
     "execution_count": 52,
     "metadata": {},
     "output_type": "execute_result"
    }
   ],
   "source": [
    "frequency_100 = df.loc[boolean_mask]\n",
    "frequency_100"
   ]
  },
  {
   "cell_type": "code",
   "execution_count": 53,
   "id": "ea96c970",
   "metadata": {},
   "outputs": [
    {
     "data": {
      "text/plain": [
       "99693"
      ]
     },
     "execution_count": 53,
     "metadata": {},
     "output_type": "execute_result"
    }
   ],
   "source": [
    "frequency_100[\"frequency\"].max()"
   ]
  },
  {
   "cell_type": "code",
   "execution_count": 56,
   "id": "102258aa",
   "metadata": {},
   "outputs": [
    {
     "data": {
      "text/plain": [
       "101"
      ]
     },
     "execution_count": 56,
     "metadata": {},
     "output_type": "execute_result"
    }
   ],
   "source": [
    "frequency_100[\"frequency\"].min()"
   ]
  },
  {
   "cell_type": "code",
   "execution_count": 57,
   "id": "e0f3b5e9",
   "metadata": {},
   "outputs": [
    {
     "data": {
      "text/plain": [
       "244408"
      ]
     },
     "execution_count": 57,
     "metadata": {},
     "output_type": "execute_result"
    }
   ],
   "source": [
    "len(frequency_higher_100)"
   ]
  },
  {
   "cell_type": "code",
   "execution_count": 58,
   "id": "830c5664",
   "metadata": {},
   "outputs": [
    {
     "data": {
      "text/plain": [
       "0.11906189700703582"
      ]
     },
     "execution_count": 58,
     "metadata": {},
     "output_type": "execute_result"
    }
   ],
   "source": [
    "percentage_of_100 = (len(frequency_higher_100)/len(df))\n",
    "percentage_of_100"
   ]
  },
  {
   "cell_type": "code",
   "execution_count": null,
   "id": "0325e20b",
   "metadata": {},
   "outputs": [],
   "source": []
  },
  {
   "cell_type": "code",
   "execution_count": null,
   "id": "5db07729",
   "metadata": {},
   "outputs": [],
   "source": []
  }
 ],
 "metadata": {
  "kernelspec": {
   "display_name": "Python 3 (ipykernel)",
   "language": "python",
   "name": "python3"
  },
  "language_info": {
   "codemirror_mode": {
    "name": "ipython",
    "version": 3
   },
   "file_extension": ".py",
   "mimetype": "text/x-python",
   "name": "python",
   "nbconvert_exporter": "python",
   "pygments_lexer": "ipython3",
   "version": "3.10.9"
  }
 },
 "nbformat": 4,
 "nbformat_minor": 5
}
