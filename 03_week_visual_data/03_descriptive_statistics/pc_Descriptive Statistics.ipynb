{
 "cells": [
  {
   "cell_type": "markdown",
   "id": "76272674",
   "metadata": {},
   "source": [
    "# WEEK 03 - DESCRIPTIVE STATISTICS - 24.01"
   ]
  },
  {
   "cell_type": "markdown",
   "id": "2163bb6d",
   "metadata": {},
   "source": [
    "#Project Challenges\n",
    "\n",
    "#PandasDescriptive Statistics Challenges"
   ]
  },
  {
   "cell_type": "markdown",
   "id": "7034d135",
   "metadata": {},
   "source": [
    "#Solve the following pandas challenges:"
   ]
  },
  {
   "cell_type": "code",
   "execution_count": 9,
   "id": "97f81934",
   "metadata": {},
   "outputs": [],
   "source": [
    "import pandas as pd\n",
    "import matplotlib.pyplot as plt\n",
    "import numpy as np"
   ]
  },
  {
   "cell_type": "code",
   "execution_count": 19,
   "id": "c4a60520",
   "metadata": {},
   "outputs": [
    {
     "name": "stdout",
     "output_type": "stream",
     "text": [
      "life_expectancy_1950.csv        pc_Descriptive Statistics.ipynb\r\n"
     ]
    }
   ],
   "source": [
    "!ls"
   ]
  },
  {
   "cell_type": "code",
   "execution_count": 20,
   "id": "fec1fa4f",
   "metadata": {},
   "outputs": [
    {
     "data": {
      "text/html": [
       "<div>\n",
       "<style scoped>\n",
       "    .dataframe tbody tr th:only-of-type {\n",
       "        vertical-align: middle;\n",
       "    }\n",
       "\n",
       "    .dataframe tbody tr th {\n",
       "        vertical-align: top;\n",
       "    }\n",
       "\n",
       "    .dataframe thead th {\n",
       "        text-align: right;\n",
       "    }\n",
       "</style>\n",
       "<table border=\"1\" class=\"dataframe\">\n",
       "  <thead>\n",
       "    <tr style=\"text-align: right;\">\n",
       "      <th></th>\n",
       "      <th>country</th>\n",
       "      <th>year</th>\n",
       "      <th>life expectancy</th>\n",
       "    </tr>\n",
       "  </thead>\n",
       "  <tbody>\n",
       "    <tr>\n",
       "      <th>0</th>\n",
       "      <td>Afghanistan</td>\n",
       "      <td>1950</td>\n",
       "      <td>26.85</td>\n",
       "    </tr>\n",
       "    <tr>\n",
       "      <th>1</th>\n",
       "      <td>Albania</td>\n",
       "      <td>1950</td>\n",
       "      <td>54.48</td>\n",
       "    </tr>\n",
       "    <tr>\n",
       "      <th>2</th>\n",
       "      <td>Algeria</td>\n",
       "      <td>1950</td>\n",
       "      <td>42.77</td>\n",
       "    </tr>\n",
       "    <tr>\n",
       "      <th>3</th>\n",
       "      <td>Angola</td>\n",
       "      <td>1950</td>\n",
       "      <td>30.70</td>\n",
       "    </tr>\n",
       "    <tr>\n",
       "      <th>4</th>\n",
       "      <td>Antigua and Barbuda</td>\n",
       "      <td>1950</td>\n",
       "      <td>57.97</td>\n",
       "    </tr>\n",
       "    <tr>\n",
       "      <th>...</th>\n",
       "      <td>...</td>\n",
       "      <td>...</td>\n",
       "      <td>...</td>\n",
       "    </tr>\n",
       "    <tr>\n",
       "      <th>13702</th>\n",
       "      <td>Virgin Islands (U.S.)</td>\n",
       "      <td>2016</td>\n",
       "      <td>80.82</td>\n",
       "    </tr>\n",
       "    <tr>\n",
       "      <th>13703</th>\n",
       "      <td>Yemen</td>\n",
       "      <td>2016</td>\n",
       "      <td>64.92</td>\n",
       "    </tr>\n",
       "    <tr>\n",
       "      <th>13704</th>\n",
       "      <td>Zambia</td>\n",
       "      <td>2016</td>\n",
       "      <td>57.10</td>\n",
       "    </tr>\n",
       "    <tr>\n",
       "      <th>13705</th>\n",
       "      <td>Zimbabwe</td>\n",
       "      <td>2016</td>\n",
       "      <td>61.69</td>\n",
       "    </tr>\n",
       "    <tr>\n",
       "      <th>13706</th>\n",
       "      <td>South Sudan</td>\n",
       "      <td>2016</td>\n",
       "      <td>56.10</td>\n",
       "    </tr>\n",
       "  </tbody>\n",
       "</table>\n",
       "<p>13707 rows × 3 columns</p>\n",
       "</div>"
      ],
      "text/plain": [
       "                     country  year  life expectancy\n",
       "0                Afghanistan  1950            26.85\n",
       "1                    Albania  1950            54.48\n",
       "2                    Algeria  1950            42.77\n",
       "3                     Angola  1950            30.70\n",
       "4        Antigua and Barbuda  1950            57.97\n",
       "...                      ...   ...              ...\n",
       "13702  Virgin Islands (U.S.)  2016            80.82\n",
       "13703                  Yemen  2016            64.92\n",
       "13704                 Zambia  2016            57.10\n",
       "13705               Zimbabwe  2016            61.69\n",
       "13706            South Sudan  2016            56.10\n",
       "\n",
       "[13707 rows x 3 columns]"
      ]
     },
     "execution_count": 20,
     "metadata": {},
     "output_type": "execute_result"
    }
   ],
   "source": [
    "# 1. read the life expectancy cleaned dataset into your notebook \n",
    "#(the dataset you created in Data Cleansing before). \n",
    "#If you want to use country as the index you may use the `index_col` parameter while reading it from the file:\n",
    "\n",
    "\n",
    "import pandas as pd\n",
    "\n",
    "data = pd.read_csv('life_expectancy_1950.csv')\n",
    "data"
   ]
  },
  {
   "cell_type": "code",
   "execution_count": 12,
   "id": "b12b1474",
   "metadata": {},
   "outputs": [
    {
     "data": {
      "text/html": [
       "<div>\n",
       "<style scoped>\n",
       "    .dataframe tbody tr th:only-of-type {\n",
       "        vertical-align: middle;\n",
       "    }\n",
       "\n",
       "    .dataframe tbody tr th {\n",
       "        vertical-align: top;\n",
       "    }\n",
       "\n",
       "    .dataframe thead th {\n",
       "        text-align: right;\n",
       "    }\n",
       "</style>\n",
       "<table border=\"1\" class=\"dataframe\">\n",
       "  <thead>\n",
       "    <tr style=\"text-align: right;\">\n",
       "      <th></th>\n",
       "      <th>country</th>\n",
       "      <th>year</th>\n",
       "      <th>life expectancy</th>\n",
       "    </tr>\n",
       "  </thead>\n",
       "  <tbody>\n",
       "    <tr>\n",
       "      <th>0</th>\n",
       "      <td>Afghanistan</td>\n",
       "      <td>1950</td>\n",
       "      <td>26.85</td>\n",
       "    </tr>\n",
       "    <tr>\n",
       "      <th>1</th>\n",
       "      <td>Albania</td>\n",
       "      <td>1950</td>\n",
       "      <td>54.48</td>\n",
       "    </tr>\n",
       "    <tr>\n",
       "      <th>2</th>\n",
       "      <td>Algeria</td>\n",
       "      <td>1950</td>\n",
       "      <td>42.77</td>\n",
       "    </tr>\n",
       "    <tr>\n",
       "      <th>3</th>\n",
       "      <td>Angola</td>\n",
       "      <td>1950</td>\n",
       "      <td>30.70</td>\n",
       "    </tr>\n",
       "    <tr>\n",
       "      <th>4</th>\n",
       "      <td>Antigua and Barbuda</td>\n",
       "      <td>1950</td>\n",
       "      <td>57.97</td>\n",
       "    </tr>\n",
       "  </tbody>\n",
       "</table>\n",
       "</div>"
      ],
      "text/plain": [
       "               country  year  life expectancy\n",
       "0          Afghanistan  1950            26.85\n",
       "1              Albania  1950            54.48\n",
       "2              Algeria  1950            42.77\n",
       "3               Angola  1950            30.70\n",
       "4  Antigua and Barbuda  1950            57.97"
      ]
     },
     "execution_count": 12,
     "metadata": {},
     "output_type": "execute_result"
    }
   ],
   "source": [
    "data.head()"
   ]
  },
  {
   "cell_type": "code",
   "execution_count": 22,
   "id": "f0832902",
   "metadata": {},
   "outputs": [],
   "source": [
    "# 2. calculate the mean life expectancy\n",
    "\n",
    "data_mean = data ['life expectancy'].mean()"
   ]
  },
  {
   "cell_type": "code",
   "execution_count": 23,
   "id": "e0a86241",
   "metadata": {},
   "outputs": [
    {
     "data": {
      "text/plain": [
       "62.98883344276646"
      ]
     },
     "execution_count": 23,
     "metadata": {},
     "output_type": "execute_result"
    }
   ],
   "source": [
    "data_mean"
   ]
  },
  {
   "cell_type": "code",
   "execution_count": 25,
   "id": "328be253",
   "metadata": {},
   "outputs": [],
   "source": [
    "# 3. calculate the mean life expectancy for the year 2000\n",
    "\n",
    "boolean_mask = data ['year'] == 2000"
   ]
  },
  {
   "cell_type": "code",
   "execution_count": 27,
   "id": "3d5ced07",
   "metadata": {},
   "outputs": [],
   "source": [
    "life_exp_2000 = data.loc[boolean_mask]"
   ]
  },
  {
   "cell_type": "code",
   "execution_count": 28,
   "id": "f398348f",
   "metadata": {},
   "outputs": [
    {
     "data": {
      "text/plain": [
       "year               2000.000000\n",
       "life expectancy      68.077703\n",
       "dtype: float64"
      ]
     },
     "execution_count": 28,
     "metadata": {},
     "output_type": "execute_result"
    }
   ],
   "source": [
    "life_exp_mean_2000 = life_exp_2000.mean(numeric_only=True)\n",
    "life_exp_mean_2000"
   ]
  },
  {
   "cell_type": "code",
   "execution_count": 36,
   "id": "9f83963f",
   "metadata": {},
   "outputs": [],
   "source": [
    "# 4. calculate the median for 1995\n",
    "boolean_mask = data['year'] == 1995"
   ]
  },
  {
   "cell_type": "code",
   "execution_count": 38,
   "id": "564cb335",
   "metadata": {},
   "outputs": [
    {
     "data": {
      "text/html": [
       "<div>\n",
       "<style scoped>\n",
       "    .dataframe tbody tr th:only-of-type {\n",
       "        vertical-align: middle;\n",
       "    }\n",
       "\n",
       "    .dataframe tbody tr th {\n",
       "        vertical-align: top;\n",
       "    }\n",
       "\n",
       "    .dataframe thead th {\n",
       "        text-align: right;\n",
       "    }\n",
       "</style>\n",
       "<table border=\"1\" class=\"dataframe\">\n",
       "  <thead>\n",
       "    <tr style=\"text-align: right;\">\n",
       "      <th></th>\n",
       "      <th>country</th>\n",
       "      <th>year</th>\n",
       "      <th>life expectancy</th>\n",
       "    </tr>\n",
       "  </thead>\n",
       "  <tbody>\n",
       "    <tr>\n",
       "      <th>9120</th>\n",
       "      <td>Afghanistan</td>\n",
       "      <td>1995</td>\n",
       "      <td>49.40</td>\n",
       "    </tr>\n",
       "    <tr>\n",
       "      <th>9121</th>\n",
       "      <td>Albania</td>\n",
       "      <td>1995</td>\n",
       "      <td>73.70</td>\n",
       "    </tr>\n",
       "    <tr>\n",
       "      <th>9122</th>\n",
       "      <td>Algeria</td>\n",
       "      <td>1995</td>\n",
       "      <td>71.60</td>\n",
       "    </tr>\n",
       "    <tr>\n",
       "      <th>9123</th>\n",
       "      <td>American Samoa</td>\n",
       "      <td>1995</td>\n",
       "      <td>70.60</td>\n",
       "    </tr>\n",
       "    <tr>\n",
       "      <th>9124</th>\n",
       "      <td>Andorra</td>\n",
       "      <td>1995</td>\n",
       "      <td>82.60</td>\n",
       "    </tr>\n",
       "    <tr>\n",
       "      <th>...</th>\n",
       "      <td>...</td>\n",
       "      <td>...</td>\n",
       "      <td>...</td>\n",
       "    </tr>\n",
       "    <tr>\n",
       "      <th>9323</th>\n",
       "      <td>Virgin Islands (U.S.)</td>\n",
       "      <td>1995</td>\n",
       "      <td>76.23</td>\n",
       "    </tr>\n",
       "    <tr>\n",
       "      <th>9324</th>\n",
       "      <td>Yemen</td>\n",
       "      <td>1995</td>\n",
       "      <td>60.30</td>\n",
       "    </tr>\n",
       "    <tr>\n",
       "      <th>9325</th>\n",
       "      <td>Zambia</td>\n",
       "      <td>1995</td>\n",
       "      <td>46.90</td>\n",
       "    </tr>\n",
       "    <tr>\n",
       "      <th>9326</th>\n",
       "      <td>Zimbabwe</td>\n",
       "      <td>1995</td>\n",
       "      <td>56.00</td>\n",
       "    </tr>\n",
       "    <tr>\n",
       "      <th>9327</th>\n",
       "      <td>South Sudan</td>\n",
       "      <td>1995</td>\n",
       "      <td>52.70</td>\n",
       "    </tr>\n",
       "  </tbody>\n",
       "</table>\n",
       "<p>208 rows × 3 columns</p>\n",
       "</div>"
      ],
      "text/plain": [
       "                    country  year  life expectancy\n",
       "9120            Afghanistan  1995            49.40\n",
       "9121                Albania  1995            73.70\n",
       "9122                Algeria  1995            71.60\n",
       "9123         American Samoa  1995            70.60\n",
       "9124                Andorra  1995            82.60\n",
       "...                     ...   ...              ...\n",
       "9323  Virgin Islands (U.S.)  1995            76.23\n",
       "9324                  Yemen  1995            60.30\n",
       "9325                 Zambia  1995            46.90\n",
       "9326               Zimbabwe  1995            56.00\n",
       "9327            South Sudan  1995            52.70\n",
       "\n",
       "[208 rows x 3 columns]"
      ]
     },
     "execution_count": 38,
     "metadata": {},
     "output_type": "execute_result"
    }
   ],
   "source": [
    "data_1995 = data.loc[boolean_mask]\n",
    "data_1995"
   ]
  },
  {
   "cell_type": "code",
   "execution_count": 45,
   "id": "cd663e14",
   "metadata": {},
   "outputs": [
    {
     "data": {
      "text/plain": [
       "70.0"
      ]
     },
     "execution_count": 45,
     "metadata": {},
     "output_type": "execute_result"
    }
   ],
   "source": [
    "median_1995 = data_1995['life expectancy'].median()\n",
    "median_1995"
   ]
  },
  {
   "cell_type": "code",
   "execution_count": 47,
   "id": "cddbd57e",
   "metadata": {},
   "outputs": [
    {
     "data": {
      "text/plain": [
       "year               19.364466\n",
       "life expectancy    11.895572\n",
       "dtype: float64"
      ]
     },
     "execution_count": 47,
     "metadata": {},
     "output_type": "execute_result"
    }
   ],
   "source": [
    "# 5. calculate the standard deviation\n",
    "\n",
    "data.std(numeric_only=True)"
   ]
  },
  {
   "cell_type": "code",
   "execution_count": 52,
   "id": "8671c095",
   "metadata": {},
   "outputs": [
    {
     "data": {
      "text/plain": [
       "11.89557179977114"
      ]
     },
     "execution_count": 52,
     "metadata": {},
     "output_type": "execute_result"
    }
   ],
   "source": [
    "data['life expectancy'].std()"
   ]
  },
  {
   "cell_type": "code",
   "execution_count": 68,
   "id": "e6cec092",
   "metadata": {},
   "outputs": [],
   "source": [
    "# 6. find the highest life expectancy"
   ]
  },
  {
   "cell_type": "code",
   "execution_count": 56,
   "id": "5c6c628d",
   "metadata": {},
   "outputs": [
    {
     "data": {
      "text/plain": [
       "84.8"
      ]
     },
     "execution_count": 56,
     "metadata": {},
     "output_type": "execute_result"
    }
   ],
   "source": [
    "life_expectancy_max = data['life expectancy'].max()\n",
    "life_expectancy_max"
   ]
  },
  {
   "cell_type": "code",
   "execution_count": 66,
   "id": "2cd7bc91",
   "metadata": {},
   "outputs": [
    {
     "data": {
      "text/html": [
       "<div>\n",
       "<style scoped>\n",
       "    .dataframe tbody tr th:only-of-type {\n",
       "        vertical-align: middle;\n",
       "    }\n",
       "\n",
       "    .dataframe tbody tr th {\n",
       "        vertical-align: top;\n",
       "    }\n",
       "\n",
       "    .dataframe thead th {\n",
       "        text-align: right;\n",
       "    }\n",
       "</style>\n",
       "<table border=\"1\" class=\"dataframe\">\n",
       "  <thead>\n",
       "    <tr style=\"text-align: right;\">\n",
       "      <th></th>\n",
       "      <th>country</th>\n",
       "      <th>year</th>\n",
       "      <th>life expectancy</th>\n",
       "    </tr>\n",
       "  </thead>\n",
       "  <tbody>\n",
       "    <tr>\n",
       "      <th>12879</th>\n",
       "      <td>Andorra</td>\n",
       "      <td>2013</td>\n",
       "      <td>84.8</td>\n",
       "    </tr>\n",
       "    <tr>\n",
       "      <th>13087</th>\n",
       "      <td>Andorra</td>\n",
       "      <td>2014</td>\n",
       "      <td>84.8</td>\n",
       "    </tr>\n",
       "    <tr>\n",
       "      <th>13295</th>\n",
       "      <td>Andorra</td>\n",
       "      <td>2015</td>\n",
       "      <td>84.8</td>\n",
       "    </tr>\n",
       "    <tr>\n",
       "      <th>13503</th>\n",
       "      <td>Andorra</td>\n",
       "      <td>2016</td>\n",
       "      <td>84.8</td>\n",
       "    </tr>\n",
       "  </tbody>\n",
       "</table>\n",
       "</div>"
      ],
      "text/plain": [
       "       country  year  life expectancy\n",
       "12879  Andorra  2013             84.8\n",
       "13087  Andorra  2014             84.8\n",
       "13295  Andorra  2015             84.8\n",
       "13503  Andorra  2016             84.8"
      ]
     },
     "execution_count": 66,
     "metadata": {},
     "output_type": "execute_result"
    }
   ],
   "source": [
    "# 7. find the country and year for the highest life expectancy\n",
    "\n",
    "life_expectancy_max_year = data.loc[data['life expectancy'] == life_expectancy_max]\n",
    "life_expectancy_max_year"
   ]
  },
  {
   "cell_type": "code",
   "execution_count": 67,
   "id": "9b21805f",
   "metadata": {},
   "outputs": [
    {
     "data": {
      "text/plain": [
       "array([2013, 2014, 2015, 2016])"
      ]
     },
     "execution_count": 67,
     "metadata": {},
     "output_type": "execute_result"
    }
   ],
   "source": [
    "life_expectancy_max_year['year'].unique()"
   ]
  },
  {
   "cell_type": "code",
   "execution_count": 68,
   "id": "00241694",
   "metadata": {},
   "outputs": [
    {
     "data": {
      "text/plain": [
       "13.2"
      ]
     },
     "execution_count": 68,
     "metadata": {},
     "output_type": "execute_result"
    }
   ],
   "source": [
    "# 8. find the lowest life expectancy\n",
    "\n",
    "life_expectancy_min = data['life expectancy'].min()\n",
    "life_expectancy_min"
   ]
  },
  {
   "cell_type": "code",
   "execution_count": 71,
   "id": "7d15b533",
   "metadata": {},
   "outputs": [],
   "source": [
    "# 9. find the country and year was the lowest life expectancy\n",
    "\n",
    "boolean_mask = data['life expectancy'] == 13.2\n",
    "\n",
    "lowest_life_ex = data.loc[boolean_mask]"
   ]
  },
  {
   "cell_type": "code",
   "execution_count": 72,
   "id": "bec1e82e",
   "metadata": {},
   "outputs": [
    {
     "data": {
      "text/html": [
       "<div>\n",
       "<style scoped>\n",
       "    .dataframe tbody tr th:only-of-type {\n",
       "        vertical-align: middle;\n",
       "    }\n",
       "\n",
       "    .dataframe tbody tr th {\n",
       "        vertical-align: top;\n",
       "    }\n",
       "\n",
       "    .dataframe thead th {\n",
       "        text-align: right;\n",
       "    }\n",
       "</style>\n",
       "<table border=\"1\" class=\"dataframe\">\n",
       "  <thead>\n",
       "    <tr style=\"text-align: right;\">\n",
       "      <th></th>\n",
       "      <th>country</th>\n",
       "      <th>year</th>\n",
       "      <th>life expectancy</th>\n",
       "    </tr>\n",
       "  </thead>\n",
       "  <tbody>\n",
       "    <tr>\n",
       "      <th>9068</th>\n",
       "      <td>Rwanda</td>\n",
       "      <td>1994</td>\n",
       "      <td>13.2</td>\n",
       "    </tr>\n",
       "  </tbody>\n",
       "</table>\n",
       "</div>"
      ],
      "text/plain": [
       "     country  year  life expectancy\n",
       "9068  Rwanda  1994             13.2"
      ]
     },
     "execution_count": 72,
     "metadata": {},
     "output_type": "execute_result"
    }
   ],
   "source": [
    "lowest_life_ex"
   ]
  },
  {
   "cell_type": "code",
   "execution_count": 73,
   "id": "f2e4c52a",
   "metadata": {},
   "outputs": [
    {
     "data": {
      "text/plain": [
       "76.4"
      ]
     },
     "execution_count": 73,
     "metadata": {},
     "output_type": "execute_result"
    }
   ],
   "source": [
    "# 10. find the 90% quantile of the life expectancy\n",
    "\n",
    "quantile_90 = data['life expectancy'].quantile(q=0.9)\n",
    "quantile_90\n",
    "\n"
   ]
  },
  {
   "cell_type": "code",
   "execution_count": null,
   "id": "0e0b4b49",
   "metadata": {},
   "outputs": [],
   "source": []
  }
 ],
 "metadata": {
  "kernelspec": {
   "display_name": "Python 3 (ipykernel)",
   "language": "python",
   "name": "python3"
  },
  "language_info": {
   "codemirror_mode": {
    "name": "ipython",
    "version": 3
   },
   "file_extension": ".py",
   "mimetype": "text/x-python",
   "name": "python",
   "nbconvert_exporter": "python",
   "pygments_lexer": "ipython3",
   "version": "3.10.9"
  },
  "vscode": {
   "interpreter": {
    "hash": "31f2aee4e71d21fbe5cf8b01ff0e069b9275f58929596ceb00d14d90e3e16cd6"
   }
  }
 },
 "nbformat": 4,
 "nbformat_minor": 5
}
