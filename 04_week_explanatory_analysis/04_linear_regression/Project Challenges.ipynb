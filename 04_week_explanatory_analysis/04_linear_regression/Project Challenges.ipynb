{
 "cells": [
  {
   "cell_type": "markdown",
   "id": "f32ac7b6",
   "metadata": {},
   "source": [
    "# Week 4 - LINEAR REGRESSION - 31.01"
   ]
  },
  {
   "cell_type": "markdown",
   "id": "3b598555",
   "metadata": {},
   "source": [
    "## Project Challenges: 31.01\n",
    "\n",
    "\n"
   ]
  },
  {
   "cell_type": "markdown",
   "id": "f60ccacb",
   "metadata": {},
   "source": [
    "Project Challenges: Linear Regression"
   ]
  },
  {
   "cell_type": "markdown",
   "id": "4a4110e0",
   "metadata": {},
   "source": [
    "Create a notebook and perform the following tasks on this week’s bikes dataset:"
   ]
  },
  {
   "cell_type": "code",
   "execution_count": 1,
   "id": "9bdce3f5",
   "metadata": {},
   "outputs": [],
   "source": [
    "import pandas as pd\n",
    "import matplotlib.pyplot as plt\n",
    "import seaborn as sns\n",
    "from sklearn.metrics import mean_squared_error\n",
    "import statsmodels.formula.api as sm\n",
    "import scipy.stats as sps\n",
    "from sklearn.cluster import KMeans"
   ]
  },
  {
   "cell_type": "code",
   "execution_count": null,
   "id": "bd44c6ec",
   "metadata": {},
   "outputs": [],
   "source": [
    "#1.Load the data in a pandas dataframe"
   ]
  },
  {
   "cell_type": "code",
   "execution_count": 4,
   "id": "dce3e976",
   "metadata": {},
   "outputs": [
    {
     "name": "stdout",
     "output_type": "stream",
     "text": [
      "<class 'pandas.core.frame.DataFrame'>\n",
      "DatetimeIndex: 17379 entries, 2011-01-01 00:00:00 to 2012-12-31 23:00:00\n",
      "Data columns (total 15 columns):\n",
      " #   Column       Non-Null Count  Dtype  \n",
      "---  ------       --------------  -----  \n",
      " 0   season       17379 non-null  int64  \n",
      " 1   holiday      17379 non-null  int64  \n",
      " 2   workingday   17379 non-null  int64  \n",
      " 3   weather      17379 non-null  int64  \n",
      " 4   temp         17379 non-null  float64\n",
      " 5   atemp        17379 non-null  float64\n",
      " 6   humidity     17379 non-null  int64  \n",
      " 7   windspeed    17379 non-null  float64\n",
      " 8   casual       10886 non-null  float64\n",
      " 9   registered   10886 non-null  float64\n",
      " 10  count        17379 non-null  int64  \n",
      " 11  hour_of_day  17379 non-null  int64  \n",
      " 12  month        17379 non-null  int64  \n",
      " 13  year         17379 non-null  int64  \n",
      " 14  part_of_day  17379 non-null  object \n",
      "dtypes: float64(5), int64(9), object(1)\n",
      "memory usage: 2.1+ MB\n"
     ]
    }
   ],
   "source": [
    "bike_data.info()"
   ]
  },
  {
   "cell_type": "code",
   "execution_count": null,
   "id": "094c56c7",
   "metadata": {},
   "outputs": [],
   "source": []
  },
  {
   "cell_type": "code",
   "execution_count": 5,
   "id": "23cbb950",
   "metadata": {},
   "outputs": [
    {
     "data": {
      "text/html": [
       "<div>\n",
       "<style scoped>\n",
       "    .dataframe tbody tr th:only-of-type {\n",
       "        vertical-align: middle;\n",
       "    }\n",
       "\n",
       "    .dataframe tbody tr th {\n",
       "        vertical-align: top;\n",
       "    }\n",
       "\n",
       "    .dataframe thead th {\n",
       "        text-align: right;\n",
       "    }\n",
       "</style>\n",
       "<table border=\"1\" class=\"dataframe\">\n",
       "  <thead>\n",
       "    <tr style=\"text-align: right;\">\n",
       "      <th></th>\n",
       "      <th>season</th>\n",
       "      <th>holiday</th>\n",
       "      <th>workingday</th>\n",
       "      <th>weather</th>\n",
       "      <th>temp</th>\n",
       "      <th>atemp</th>\n",
       "      <th>humidity</th>\n",
       "      <th>windspeed</th>\n",
       "      <th>casual</th>\n",
       "      <th>registered</th>\n",
       "      <th>count</th>\n",
       "      <th>hour_of_day</th>\n",
       "      <th>month</th>\n",
       "      <th>year</th>\n",
       "      <th>part_of_day</th>\n",
       "    </tr>\n",
       "    <tr>\n",
       "      <th>datetime</th>\n",
       "      <th></th>\n",
       "      <th></th>\n",
       "      <th></th>\n",
       "      <th></th>\n",
       "      <th></th>\n",
       "      <th></th>\n",
       "      <th></th>\n",
       "      <th></th>\n",
       "      <th></th>\n",
       "      <th></th>\n",
       "      <th></th>\n",
       "      <th></th>\n",
       "      <th></th>\n",
       "      <th></th>\n",
       "      <th></th>\n",
       "    </tr>\n",
       "  </thead>\n",
       "  <tbody>\n",
       "    <tr>\n",
       "      <th>2011-01-01 00:00:00</th>\n",
       "      <td>1</td>\n",
       "      <td>0</td>\n",
       "      <td>0</td>\n",
       "      <td>1</td>\n",
       "      <td>9.84</td>\n",
       "      <td>14.395</td>\n",
       "      <td>81</td>\n",
       "      <td>0.0</td>\n",
       "      <td>3.0</td>\n",
       "      <td>13.0</td>\n",
       "      <td>16</td>\n",
       "      <td>0</td>\n",
       "      <td>1</td>\n",
       "      <td>2011</td>\n",
       "      <td>morning</td>\n",
       "    </tr>\n",
       "    <tr>\n",
       "      <th>2011-01-01 01:00:00</th>\n",
       "      <td>1</td>\n",
       "      <td>0</td>\n",
       "      <td>0</td>\n",
       "      <td>1</td>\n",
       "      <td>9.02</td>\n",
       "      <td>13.635</td>\n",
       "      <td>80</td>\n",
       "      <td>0.0</td>\n",
       "      <td>8.0</td>\n",
       "      <td>32.0</td>\n",
       "      <td>40</td>\n",
       "      <td>1</td>\n",
       "      <td>1</td>\n",
       "      <td>2011</td>\n",
       "      <td>morning</td>\n",
       "    </tr>\n",
       "    <tr>\n",
       "      <th>2011-01-01 02:00:00</th>\n",
       "      <td>1</td>\n",
       "      <td>0</td>\n",
       "      <td>0</td>\n",
       "      <td>1</td>\n",
       "      <td>9.02</td>\n",
       "      <td>13.635</td>\n",
       "      <td>80</td>\n",
       "      <td>0.0</td>\n",
       "      <td>5.0</td>\n",
       "      <td>27.0</td>\n",
       "      <td>32</td>\n",
       "      <td>2</td>\n",
       "      <td>1</td>\n",
       "      <td>2011</td>\n",
       "      <td>morning</td>\n",
       "    </tr>\n",
       "    <tr>\n",
       "      <th>2011-01-01 03:00:00</th>\n",
       "      <td>1</td>\n",
       "      <td>0</td>\n",
       "      <td>0</td>\n",
       "      <td>1</td>\n",
       "      <td>9.84</td>\n",
       "      <td>14.395</td>\n",
       "      <td>75</td>\n",
       "      <td>0.0</td>\n",
       "      <td>3.0</td>\n",
       "      <td>10.0</td>\n",
       "      <td>13</td>\n",
       "      <td>3</td>\n",
       "      <td>1</td>\n",
       "      <td>2011</td>\n",
       "      <td>morning</td>\n",
       "    </tr>\n",
       "    <tr>\n",
       "      <th>2011-01-01 04:00:00</th>\n",
       "      <td>1</td>\n",
       "      <td>0</td>\n",
       "      <td>0</td>\n",
       "      <td>1</td>\n",
       "      <td>9.84</td>\n",
       "      <td>14.395</td>\n",
       "      <td>75</td>\n",
       "      <td>0.0</td>\n",
       "      <td>0.0</td>\n",
       "      <td>1.0</td>\n",
       "      <td>1</td>\n",
       "      <td>4</td>\n",
       "      <td>1</td>\n",
       "      <td>2011</td>\n",
       "      <td>morning</td>\n",
       "    </tr>\n",
       "  </tbody>\n",
       "</table>\n",
       "</div>"
      ],
      "text/plain": [
       "                     season  holiday  workingday  weather  temp   atemp  \\\n",
       "datetime                                                                  \n",
       "2011-01-01 00:00:00       1        0           0        1  9.84  14.395   \n",
       "2011-01-01 01:00:00       1        0           0        1  9.02  13.635   \n",
       "2011-01-01 02:00:00       1        0           0        1  9.02  13.635   \n",
       "2011-01-01 03:00:00       1        0           0        1  9.84  14.395   \n",
       "2011-01-01 04:00:00       1        0           0        1  9.84  14.395   \n",
       "\n",
       "                     humidity  windspeed  casual  registered  count  \\\n",
       "datetime                                                              \n",
       "2011-01-01 00:00:00        81        0.0     3.0        13.0     16   \n",
       "2011-01-01 01:00:00        80        0.0     8.0        32.0     40   \n",
       "2011-01-01 02:00:00        80        0.0     5.0        27.0     32   \n",
       "2011-01-01 03:00:00        75        0.0     3.0        10.0     13   \n",
       "2011-01-01 04:00:00        75        0.0     0.0         1.0      1   \n",
       "\n",
       "                     hour_of_day  month  year part_of_day  \n",
       "datetime                                                   \n",
       "2011-01-01 00:00:00            0      1  2011     morning  \n",
       "2011-01-01 01:00:00            1      1  2011     morning  \n",
       "2011-01-01 02:00:00            2      1  2011     morning  \n",
       "2011-01-01 03:00:00            3      1  2011     morning  \n",
       "2011-01-01 04:00:00            4      1  2011     morning  "
      ]
     },
     "execution_count": 5,
     "metadata": {},
     "output_type": "execute_result"
    }
   ],
   "source": [
    "#2.Set the datetime column as the dataframe index\n",
    "bike_data = pd.read_csv('../data/bikes_clean.csv', parse_dates=True, index_col=0)\n",
    "bike_data.head()"
   ]
  },
  {
   "cell_type": "code",
   "execution_count": 6,
   "id": "061d0052",
   "metadata": {},
   "outputs": [
    {
     "data": {
      "text/html": [
       "<div>\n",
       "<style scoped>\n",
       "    .dataframe tbody tr th:only-of-type {\n",
       "        vertical-align: middle;\n",
       "    }\n",
       "\n",
       "    .dataframe tbody tr th {\n",
       "        vertical-align: top;\n",
       "    }\n",
       "\n",
       "    .dataframe thead th {\n",
       "        text-align: right;\n",
       "    }\n",
       "</style>\n",
       "<table border=\"1\" class=\"dataframe\">\n",
       "  <thead>\n",
       "    <tr style=\"text-align: right;\">\n",
       "      <th></th>\n",
       "      <th>temp</th>\n",
       "      <th>atemp</th>\n",
       "      <th>humidity</th>\n",
       "      <th>windspeed</th>\n",
       "      <th>count</th>\n",
       "    </tr>\n",
       "    <tr>\n",
       "      <th>datetime</th>\n",
       "      <th></th>\n",
       "      <th></th>\n",
       "      <th></th>\n",
       "      <th></th>\n",
       "      <th></th>\n",
       "    </tr>\n",
       "  </thead>\n",
       "  <tbody>\n",
       "    <tr>\n",
       "      <th>2011-01-01 00:00:00</th>\n",
       "      <td>9.84</td>\n",
       "      <td>14.395</td>\n",
       "      <td>81</td>\n",
       "      <td>0.0</td>\n",
       "      <td>16</td>\n",
       "    </tr>\n",
       "    <tr>\n",
       "      <th>2011-01-01 01:00:00</th>\n",
       "      <td>9.02</td>\n",
       "      <td>13.635</td>\n",
       "      <td>80</td>\n",
       "      <td>0.0</td>\n",
       "      <td>40</td>\n",
       "    </tr>\n",
       "    <tr>\n",
       "      <th>2011-01-01 02:00:00</th>\n",
       "      <td>9.02</td>\n",
       "      <td>13.635</td>\n",
       "      <td>80</td>\n",
       "      <td>0.0</td>\n",
       "      <td>32</td>\n",
       "    </tr>\n",
       "    <tr>\n",
       "      <th>2011-01-01 03:00:00</th>\n",
       "      <td>9.84</td>\n",
       "      <td>14.395</td>\n",
       "      <td>75</td>\n",
       "      <td>0.0</td>\n",
       "      <td>13</td>\n",
       "    </tr>\n",
       "    <tr>\n",
       "      <th>2011-01-01 04:00:00</th>\n",
       "      <td>9.84</td>\n",
       "      <td>14.395</td>\n",
       "      <td>75</td>\n",
       "      <td>0.0</td>\n",
       "      <td>1</td>\n",
       "    </tr>\n",
       "  </tbody>\n",
       "</table>\n",
       "</div>"
      ],
      "text/plain": [
       "                     temp   atemp  humidity  windspeed  count\n",
       "datetime                                                     \n",
       "2011-01-01 00:00:00  9.84  14.395        81        0.0     16\n",
       "2011-01-01 01:00:00  9.02  13.635        80        0.0     40\n",
       "2011-01-01 02:00:00  9.02  13.635        80        0.0     32\n",
       "2011-01-01 03:00:00  9.84  14.395        75        0.0     13\n",
       "2011-01-01 04:00:00  9.84  14.395        75        0.0      1"
      ]
     },
     "execution_count": 6,
     "metadata": {},
     "output_type": "execute_result"
    }
   ],
   "source": [
    "#3.Subset the dataframe to extract the following columns: temp, atemp, humidity, windspeed and count\n",
    "bike_data_season = bike_data[['temp', 'atemp', 'humidity', 'windspeed', 'count']]\n",
    "bike_data_season.head()"
   ]
  },
  {
   "cell_type": "code",
   "execution_count": 8,
   "id": "c4db45d1",
   "metadata": {},
   "outputs": [
    {
     "data": {
      "text/html": [
       "<div>\n",
       "<style scoped>\n",
       "    .dataframe tbody tr th:only-of-type {\n",
       "        vertical-align: middle;\n",
       "    }\n",
       "\n",
       "    .dataframe tbody tr th {\n",
       "        vertical-align: top;\n",
       "    }\n",
       "\n",
       "    .dataframe thead th {\n",
       "        text-align: right;\n",
       "    }\n",
       "</style>\n",
       "<table border=\"1\" class=\"dataframe\">\n",
       "  <thead>\n",
       "    <tr style=\"text-align: right;\">\n",
       "      <th></th>\n",
       "      <th>temp</th>\n",
       "      <th>atemp</th>\n",
       "      <th>humidity</th>\n",
       "      <th>windspeed</th>\n",
       "      <th>count</th>\n",
       "    </tr>\n",
       "  </thead>\n",
       "  <tbody>\n",
       "    <tr>\n",
       "      <th>temp</th>\n",
       "      <td>1.000000</td>\n",
       "      <td>0.987672</td>\n",
       "      <td>-0.069881</td>\n",
       "      <td>-0.023125</td>\n",
       "      <td>0.414713</td>\n",
       "    </tr>\n",
       "    <tr>\n",
       "      <th>atemp</th>\n",
       "      <td>0.987672</td>\n",
       "      <td>1.000000</td>\n",
       "      <td>-0.051918</td>\n",
       "      <td>-0.062336</td>\n",
       "      <td>0.411854</td>\n",
       "    </tr>\n",
       "    <tr>\n",
       "      <th>humidity</th>\n",
       "      <td>-0.069881</td>\n",
       "      <td>-0.051918</td>\n",
       "      <td>1.000000</td>\n",
       "      <td>-0.290105</td>\n",
       "      <td>-0.329615</td>\n",
       "    </tr>\n",
       "    <tr>\n",
       "      <th>windspeed</th>\n",
       "      <td>-0.023125</td>\n",
       "      <td>-0.062336</td>\n",
       "      <td>-0.290105</td>\n",
       "      <td>1.000000</td>\n",
       "      <td>0.099909</td>\n",
       "    </tr>\n",
       "    <tr>\n",
       "      <th>count</th>\n",
       "      <td>0.414713</td>\n",
       "      <td>0.411854</td>\n",
       "      <td>-0.329615</td>\n",
       "      <td>0.099909</td>\n",
       "      <td>1.000000</td>\n",
       "    </tr>\n",
       "  </tbody>\n",
       "</table>\n",
       "</div>"
      ],
      "text/plain": [
       "               temp     atemp  humidity  windspeed     count\n",
       "temp       1.000000  0.987672 -0.069881  -0.023125  0.414713\n",
       "atemp      0.987672  1.000000 -0.051918  -0.062336  0.411854\n",
       "humidity  -0.069881 -0.051918  1.000000  -0.290105 -0.329615\n",
       "windspeed -0.023125 -0.062336 -0.290105   1.000000  0.099909\n",
       "count      0.414713  0.411854 -0.329615   0.099909  1.000000"
      ]
     },
     "execution_count": 8,
     "metadata": {},
     "output_type": "execute_result"
    }
   ],
   "source": [
    "#4.Generate a heatmap of the subset dataframe. Which of the features has the highest correlation with the count column ?\n",
    "bike_data_season.corr()"
   ]
  },
  {
   "cell_type": "code",
   "execution_count": 9,
   "id": "1fecdece",
   "metadata": {},
   "outputs": [
    {
     "data": {
      "text/plain": [
       "<AxesSubplot: >"
      ]
     },
     "execution_count": 9,
     "metadata": {},
     "output_type": "execute_result"
    },
    {
     "data": {
      "image/png": "[encoded data removed]",
      "text/plain": [
       "<Figure size 640x480 with 2 Axes>"
      ]
     },
     "metadata": {},
     "output_type": "display_data"
    }
   ],
   "source": [
    "sns.heatmap(bike_data_season.corr(), annot=True)"
   ]
  },
  {
   "cell_type": "code",
   "execution_count": 14,
   "id": "1baf01d3",
   "metadata": {},
   "outputs": [],
   "source": [
    "#5.Using that feature from step. 4, build a simple linear regression model with count as the response variable. Calculate R2.\n",
    "model0 = sm.ols(formula='count ~ temp', data=bike_data_season).fit()"
   ]
  },
  {
   "cell_type": "code",
   "execution_count": 15,
   "id": "2d5efc55",
   "metadata": {},
   "outputs": [
    {
     "data": {
      "text/plain": [
       "0.171987164301862"
      ]
     },
     "execution_count": 15,
     "metadata": {},
     "output_type": "execute_result"
    }
   ],
   "source": [
    "model0.rsquared"
   ]
  },
  {
   "cell_type": "code",
   "execution_count": 20,
   "id": "92558c76",
   "metadata": {},
   "outputs": [],
   "source": [
    "#6.Add an additional feature from the subset dataframe and repeat step 5. Observe how the value R2 changed. How can this change be explained ?\n",
    "model1 = sm.ols(formula='count ~ temp + atemp', data=bike_data_season).fit()"
   ]
  },
  {
   "cell_type": "code",
   "execution_count": 21,
   "id": "c8ccd84d",
   "metadata": {},
   "outputs": [
    {
     "data": {
      "text/plain": [
       "0.17219441705303484"
      ]
     },
     "execution_count": 21,
     "metadata": {},
     "output_type": "execute_result"
    }
   ],
   "source": [
    "model1.rsquared"
   ]
  },
  {
   "cell_type": "code",
   "execution_count": 23,
   "id": "3d173a29",
   "metadata": {},
   "outputs": [],
   "source": [
    "#7.Add the remaining two features and repeat step 6. Does the model get better when atemp is added as a feature ? why ?\n",
    "model2 = sm.ols(formula='count ~ temp + atemp + humidity + windspeed', data=bike_data_season).fit()"
   ]
  },
  {
   "cell_type": "code",
   "execution_count": 24,
   "id": "44bf1bde",
   "metadata": {},
   "outputs": [
    {
     "data": {
      "text/plain": [
       "0.26626505184252514"
      ]
     },
     "execution_count": 24,
     "metadata": {},
     "output_type": "execute_result"
    }
   ],
   "source": [
    "model2.rsquared"
   ]
  },
  {
   "cell_type": "code",
   "execution_count": 325,
   "id": "b9574c46",
   "metadata": {},
   "outputs": [],
   "source": [
    "#8.What additional features can be added to improve the fit of the model ?\n"
   ]
  },
  {
   "cell_type": "code",
   "execution_count": 326,
   "id": "b17afa3d",
   "metadata": {},
   "outputs": [],
   "source": [
    "#BONUS: Use features that were extracted and binned in the datetime lesson to improve the r² score even further."
   ]
  },
  {
   "cell_type": "code",
   "execution_count": null,
   "id": "6767087f",
   "metadata": {},
   "outputs": [],
   "source": []
  },
  {
   "cell_type": "code",
   "execution_count": 327,
   "id": "b5c3ef00",
   "metadata": {},
   "outputs": [],
   "source": [
    "df.reset_index().to_csv('bikes_okay.csv', index=False)"
   ]
  },
  {
   "cell_type": "code",
   "execution_count": null,
   "id": "a8a36f86",
   "metadata": {},
   "outputs": [],
   "source": []
  }
 ],
 "metadata": {
  "kernelspec": {
   "display_name": "Python 3 (ipykernel)",
   "language": "python",
   "name": "python3"
  },
  "language_info": {
   "codemirror_mode": {
    "name": "ipython",
    "version": 3
   },
   "file_extension": ".py",
   "mimetype": "text/x-python",
   "name": "python",
   "nbconvert_exporter": "python",
   "pygments_lexer": "ipython3",
   "version": "3.10.9"
  }
 },
 "nbformat": 4,
 "nbformat_minor": 5
}
