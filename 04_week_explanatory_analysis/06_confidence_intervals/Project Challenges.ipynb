{
 "cells": [
  {
   "cell_type": "markdown",
   "id": "f32ac7b6",
   "metadata": {},
   "source": [
    "# Week 4 -  CONFIDENCE INTERVALS - 01.02"
   ]
  },
  {
   "cell_type": "markdown",
   "id": "3b598555",
   "metadata": {},
   "source": [
    "## Project Challenges: 01.02\n",
    "\n",
    "\n",
    "\n"
   ]
  },
  {
   "cell_type": "markdown",
   "id": "3f336e90",
   "metadata": {},
   "source": [
    "For the bikes data set, calculate the 95% confidence intervals for the mean of the windspeed feature using bootstrapping. Create a notebook in which following questions shall be solved:\n"
   ]
  },
  {
   "cell_type": "code",
   "execution_count": 34,
   "id": "f85910b6",
   "metadata": {},
   "outputs": [],
   "source": [
    "import pandas as pd\n",
    "import numpy as np\n",
    "import seaborn as sns\n",
    "import matplotlib.pyplot as plt"
   ]
  },
  {
   "cell_type": "code",
   "execution_count": 35,
   "id": "7bf93658",
   "metadata": {},
   "outputs": [],
   "source": [
    "bike_data = pd.read_csv('../data/bikes_clean.csv', parse_dates=True, index_col=0)"
   ]
  },
  {
   "cell_type": "code",
   "execution_count": 36,
   "id": "5c42998c",
   "metadata": {},
   "outputs": [
    {
     "data": {
      "text/html": [
       "<div>\n",
       "<style scoped>\n",
       "    .dataframe tbody tr th:only-of-type {\n",
       "        vertical-align: middle;\n",
       "    }\n",
       "\n",
       "    .dataframe tbody tr th {\n",
       "        vertical-align: top;\n",
       "    }\n",
       "\n",
       "    .dataframe thead th {\n",
       "        text-align: right;\n",
       "    }\n",
       "</style>\n",
       "<table border=\"1\" class=\"dataframe\">\n",
       "  <thead>\n",
       "    <tr style=\"text-align: right;\">\n",
       "      <th></th>\n",
       "      <th>season</th>\n",
       "      <th>holiday</th>\n",
       "      <th>workingday</th>\n",
       "      <th>weather</th>\n",
       "      <th>temp</th>\n",
       "      <th>atemp</th>\n",
       "      <th>humidity</th>\n",
       "      <th>windspeed</th>\n",
       "      <th>casual</th>\n",
       "      <th>registered</th>\n",
       "      <th>count</th>\n",
       "      <th>hour_of_day</th>\n",
       "      <th>month</th>\n",
       "      <th>year</th>\n",
       "      <th>part_of_day</th>\n",
       "    </tr>\n",
       "    <tr>\n",
       "      <th>datetime</th>\n",
       "      <th></th>\n",
       "      <th></th>\n",
       "      <th></th>\n",
       "      <th></th>\n",
       "      <th></th>\n",
       "      <th></th>\n",
       "      <th></th>\n",
       "      <th></th>\n",
       "      <th></th>\n",
       "      <th></th>\n",
       "      <th></th>\n",
       "      <th></th>\n",
       "      <th></th>\n",
       "      <th></th>\n",
       "      <th></th>\n",
       "    </tr>\n",
       "  </thead>\n",
       "  <tbody>\n",
       "    <tr>\n",
       "      <th>2011-01-01 00:00:00</th>\n",
       "      <td>1</td>\n",
       "      <td>0</td>\n",
       "      <td>0</td>\n",
       "      <td>1</td>\n",
       "      <td>9.84</td>\n",
       "      <td>14.395</td>\n",
       "      <td>81</td>\n",
       "      <td>0.0</td>\n",
       "      <td>3.0</td>\n",
       "      <td>13.0</td>\n",
       "      <td>16</td>\n",
       "      <td>0</td>\n",
       "      <td>1</td>\n",
       "      <td>2011</td>\n",
       "      <td>morning</td>\n",
       "    </tr>\n",
       "    <tr>\n",
       "      <th>2011-01-01 01:00:00</th>\n",
       "      <td>1</td>\n",
       "      <td>0</td>\n",
       "      <td>0</td>\n",
       "      <td>1</td>\n",
       "      <td>9.02</td>\n",
       "      <td>13.635</td>\n",
       "      <td>80</td>\n",
       "      <td>0.0</td>\n",
       "      <td>8.0</td>\n",
       "      <td>32.0</td>\n",
       "      <td>40</td>\n",
       "      <td>1</td>\n",
       "      <td>1</td>\n",
       "      <td>2011</td>\n",
       "      <td>morning</td>\n",
       "    </tr>\n",
       "    <tr>\n",
       "      <th>2011-01-01 02:00:00</th>\n",
       "      <td>1</td>\n",
       "      <td>0</td>\n",
       "      <td>0</td>\n",
       "      <td>1</td>\n",
       "      <td>9.02</td>\n",
       "      <td>13.635</td>\n",
       "      <td>80</td>\n",
       "      <td>0.0</td>\n",
       "      <td>5.0</td>\n",
       "      <td>27.0</td>\n",
       "      <td>32</td>\n",
       "      <td>2</td>\n",
       "      <td>1</td>\n",
       "      <td>2011</td>\n",
       "      <td>morning</td>\n",
       "    </tr>\n",
       "    <tr>\n",
       "      <th>2011-01-01 03:00:00</th>\n",
       "      <td>1</td>\n",
       "      <td>0</td>\n",
       "      <td>0</td>\n",
       "      <td>1</td>\n",
       "      <td>9.84</td>\n",
       "      <td>14.395</td>\n",
       "      <td>75</td>\n",
       "      <td>0.0</td>\n",
       "      <td>3.0</td>\n",
       "      <td>10.0</td>\n",
       "      <td>13</td>\n",
       "      <td>3</td>\n",
       "      <td>1</td>\n",
       "      <td>2011</td>\n",
       "      <td>morning</td>\n",
       "    </tr>\n",
       "    <tr>\n",
       "      <th>2011-01-01 04:00:00</th>\n",
       "      <td>1</td>\n",
       "      <td>0</td>\n",
       "      <td>0</td>\n",
       "      <td>1</td>\n",
       "      <td>9.84</td>\n",
       "      <td>14.395</td>\n",
       "      <td>75</td>\n",
       "      <td>0.0</td>\n",
       "      <td>0.0</td>\n",
       "      <td>1.0</td>\n",
       "      <td>1</td>\n",
       "      <td>4</td>\n",
       "      <td>1</td>\n",
       "      <td>2011</td>\n",
       "      <td>morning</td>\n",
       "    </tr>\n",
       "  </tbody>\n",
       "</table>\n",
       "</div>"
      ],
      "text/plain": [
       "                     season  holiday  workingday  weather  temp   atemp  \\\n",
       "datetime                                                                  \n",
       "2011-01-01 00:00:00       1        0           0        1  9.84  14.395   \n",
       "2011-01-01 01:00:00       1        0           0        1  9.02  13.635   \n",
       "2011-01-01 02:00:00       1        0           0        1  9.02  13.635   \n",
       "2011-01-01 03:00:00       1        0           0        1  9.84  14.395   \n",
       "2011-01-01 04:00:00       1        0           0        1  9.84  14.395   \n",
       "\n",
       "                     humidity  windspeed  casual  registered  count  \\\n",
       "datetime                                                              \n",
       "2011-01-01 00:00:00        81        0.0     3.0        13.0     16   \n",
       "2011-01-01 01:00:00        80        0.0     8.0        32.0     40   \n",
       "2011-01-01 02:00:00        80        0.0     5.0        27.0     32   \n",
       "2011-01-01 03:00:00        75        0.0     3.0        10.0     13   \n",
       "2011-01-01 04:00:00        75        0.0     0.0         1.0      1   \n",
       "\n",
       "                     hour_of_day  month  year part_of_day  \n",
       "datetime                                                   \n",
       "2011-01-01 00:00:00            0      1  2011     morning  \n",
       "2011-01-01 01:00:00            1      1  2011     morning  \n",
       "2011-01-01 02:00:00            2      1  2011     morning  \n",
       "2011-01-01 03:00:00            3      1  2011     morning  \n",
       "2011-01-01 04:00:00            4      1  2011     morning  "
      ]
     },
     "execution_count": 36,
     "metadata": {},
     "output_type": "execute_result"
    }
   ],
   "source": [
    "bike_data.head()"
   ]
  },
  {
   "cell_type": "code",
   "execution_count": 37,
   "id": "638d56ed",
   "metadata": {},
   "outputs": [
    {
     "name": "stdout",
     "output_type": "stream",
     "text": [
      "<class 'pandas.core.frame.DataFrame'>\n",
      "DatetimeIndex: 17379 entries, 2011-01-01 00:00:00 to 2012-12-31 23:00:00\n",
      "Data columns (total 15 columns):\n",
      " #   Column       Non-Null Count  Dtype  \n",
      "---  ------       --------------  -----  \n",
      " 0   season       17379 non-null  int64  \n",
      " 1   holiday      17379 non-null  int64  \n",
      " 2   workingday   17379 non-null  int64  \n",
      " 3   weather      17379 non-null  int64  \n",
      " 4   temp         17379 non-null  float64\n",
      " 5   atemp        17379 non-null  float64\n",
      " 6   humidity     17379 non-null  int64  \n",
      " 7   windspeed    17379 non-null  float64\n",
      " 8   casual       10886 non-null  float64\n",
      " 9   registered   10886 non-null  float64\n",
      " 10  count        17379 non-null  int64  \n",
      " 11  hour_of_day  17379 non-null  int64  \n",
      " 12  month        17379 non-null  int64  \n",
      " 13  year         17379 non-null  int64  \n",
      " 14  part_of_day  17379 non-null  object \n",
      "dtypes: float64(5), int64(9), object(1)\n",
      "memory usage: 2.1+ MB\n"
     ]
    }
   ],
   "source": [
    "bike_data.info()"
   ]
  },
  {
   "cell_type": "code",
   "execution_count": 38,
   "id": "76e2187e",
   "metadata": {},
   "outputs": [
    {
     "data": {
      "text/html": [
       "<div>\n",
       "<style scoped>\n",
       "    .dataframe tbody tr th:only-of-type {\n",
       "        vertical-align: middle;\n",
       "    }\n",
       "\n",
       "    .dataframe tbody tr th {\n",
       "        vertical-align: top;\n",
       "    }\n",
       "\n",
       "    .dataframe thead th {\n",
       "        text-align: right;\n",
       "    }\n",
       "</style>\n",
       "<table border=\"1\" class=\"dataframe\">\n",
       "  <thead>\n",
       "    <tr style=\"text-align: right;\">\n",
       "      <th></th>\n",
       "      <th>season</th>\n",
       "      <th>holiday</th>\n",
       "      <th>workingday</th>\n",
       "      <th>weather</th>\n",
       "      <th>temp</th>\n",
       "      <th>atemp</th>\n",
       "      <th>humidity</th>\n",
       "      <th>windspeed</th>\n",
       "      <th>casual</th>\n",
       "      <th>registered</th>\n",
       "      <th>count</th>\n",
       "      <th>hour_of_day</th>\n",
       "      <th>month</th>\n",
       "      <th>year</th>\n",
       "      <th>part_of_day</th>\n",
       "    </tr>\n",
       "    <tr>\n",
       "      <th>datetime</th>\n",
       "      <th></th>\n",
       "      <th></th>\n",
       "      <th></th>\n",
       "      <th></th>\n",
       "      <th></th>\n",
       "      <th></th>\n",
       "      <th></th>\n",
       "      <th></th>\n",
       "      <th></th>\n",
       "      <th></th>\n",
       "      <th></th>\n",
       "      <th></th>\n",
       "      <th></th>\n",
       "      <th></th>\n",
       "      <th></th>\n",
       "    </tr>\n",
       "  </thead>\n",
       "  <tbody>\n",
       "    <tr>\n",
       "      <th>2011-12-07 08:00:00</th>\n",
       "      <td>4</td>\n",
       "      <td>0</td>\n",
       "      <td>1</td>\n",
       "      <td>3</td>\n",
       "      <td>18.04</td>\n",
       "      <td>21.970</td>\n",
       "      <td>100</td>\n",
       "      <td>0.0000</td>\n",
       "      <td>6.0</td>\n",
       "      <td>80.0</td>\n",
       "      <td>86</td>\n",
       "      <td>8</td>\n",
       "      <td>12</td>\n",
       "      <td>2011</td>\n",
       "      <td>afternoon</td>\n",
       "    </tr>\n",
       "    <tr>\n",
       "      <th>2012-07-09 12:00:00</th>\n",
       "      <td>3</td>\n",
       "      <td>0</td>\n",
       "      <td>1</td>\n",
       "      <td>2</td>\n",
       "      <td>30.34</td>\n",
       "      <td>34.090</td>\n",
       "      <td>58</td>\n",
       "      <td>8.9981</td>\n",
       "      <td>61.0</td>\n",
       "      <td>205.0</td>\n",
       "      <td>266</td>\n",
       "      <td>12</td>\n",
       "      <td>7</td>\n",
       "      <td>2012</td>\n",
       "      <td>afternoon</td>\n",
       "    </tr>\n",
       "    <tr>\n",
       "      <th>2011-07-27 11:00:00</th>\n",
       "      <td>3</td>\n",
       "      <td>0</td>\n",
       "      <td>1</td>\n",
       "      <td>1</td>\n",
       "      <td>32.80</td>\n",
       "      <td>34.850</td>\n",
       "      <td>31</td>\n",
       "      <td>0.0000</td>\n",
       "      <td>NaN</td>\n",
       "      <td>NaN</td>\n",
       "      <td>208</td>\n",
       "      <td>11</td>\n",
       "      <td>7</td>\n",
       "      <td>2011</td>\n",
       "      <td>afternoon</td>\n",
       "    </tr>\n",
       "    <tr>\n",
       "      <th>2012-06-24 22:00:00</th>\n",
       "      <td>3</td>\n",
       "      <td>0</td>\n",
       "      <td>0</td>\n",
       "      <td>1</td>\n",
       "      <td>30.34</td>\n",
       "      <td>34.090</td>\n",
       "      <td>55</td>\n",
       "      <td>7.0015</td>\n",
       "      <td>NaN</td>\n",
       "      <td>NaN</td>\n",
       "      <td>269</td>\n",
       "      <td>22</td>\n",
       "      <td>6</td>\n",
       "      <td>2012</td>\n",
       "      <td>night</td>\n",
       "    </tr>\n",
       "    <tr>\n",
       "      <th>2011-08-15 11:00:00</th>\n",
       "      <td>3</td>\n",
       "      <td>0</td>\n",
       "      <td>1</td>\n",
       "      <td>2</td>\n",
       "      <td>29.52</td>\n",
       "      <td>34.090</td>\n",
       "      <td>62</td>\n",
       "      <td>16.9979</td>\n",
       "      <td>41.0</td>\n",
       "      <td>112.0</td>\n",
       "      <td>153</td>\n",
       "      <td>11</td>\n",
       "      <td>8</td>\n",
       "      <td>2011</td>\n",
       "      <td>afternoon</td>\n",
       "    </tr>\n",
       "    <tr>\n",
       "      <th>2012-11-26 21:00:00</th>\n",
       "      <td>4</td>\n",
       "      <td>0</td>\n",
       "      <td>1</td>\n",
       "      <td>1</td>\n",
       "      <td>13.94</td>\n",
       "      <td>18.180</td>\n",
       "      <td>49</td>\n",
       "      <td>0.0000</td>\n",
       "      <td>NaN</td>\n",
       "      <td>NaN</td>\n",
       "      <td>128</td>\n",
       "      <td>21</td>\n",
       "      <td>11</td>\n",
       "      <td>2012</td>\n",
       "      <td>night</td>\n",
       "    </tr>\n",
       "    <tr>\n",
       "      <th>2012-07-11 12:00:00</th>\n",
       "      <td>3</td>\n",
       "      <td>0</td>\n",
       "      <td>1</td>\n",
       "      <td>2</td>\n",
       "      <td>31.98</td>\n",
       "      <td>34.850</td>\n",
       "      <td>43</td>\n",
       "      <td>0.0000</td>\n",
       "      <td>69.0</td>\n",
       "      <td>223.0</td>\n",
       "      <td>292</td>\n",
       "      <td>12</td>\n",
       "      <td>7</td>\n",
       "      <td>2012</td>\n",
       "      <td>afternoon</td>\n",
       "    </tr>\n",
       "    <tr>\n",
       "      <th>2011-03-01 09:00:00</th>\n",
       "      <td>1</td>\n",
       "      <td>0</td>\n",
       "      <td>1</td>\n",
       "      <td>1</td>\n",
       "      <td>9.02</td>\n",
       "      <td>9.850</td>\n",
       "      <td>55</td>\n",
       "      <td>27.9993</td>\n",
       "      <td>8.0</td>\n",
       "      <td>116.0</td>\n",
       "      <td>124</td>\n",
       "      <td>9</td>\n",
       "      <td>3</td>\n",
       "      <td>2011</td>\n",
       "      <td>afternoon</td>\n",
       "    </tr>\n",
       "    <tr>\n",
       "      <th>2011-09-26 04:00:00</th>\n",
       "      <td>4</td>\n",
       "      <td>0</td>\n",
       "      <td>1</td>\n",
       "      <td>2</td>\n",
       "      <td>25.42</td>\n",
       "      <td>27.275</td>\n",
       "      <td>94</td>\n",
       "      <td>6.0032</td>\n",
       "      <td>NaN</td>\n",
       "      <td>NaN</td>\n",
       "      <td>6</td>\n",
       "      <td>4</td>\n",
       "      <td>9</td>\n",
       "      <td>2011</td>\n",
       "      <td>morning</td>\n",
       "    </tr>\n",
       "    <tr>\n",
       "      <th>2012-07-12 22:00:00</th>\n",
       "      <td>3</td>\n",
       "      <td>0</td>\n",
       "      <td>1</td>\n",
       "      <td>1</td>\n",
       "      <td>29.52</td>\n",
       "      <td>33.335</td>\n",
       "      <td>51</td>\n",
       "      <td>11.0014</td>\n",
       "      <td>56.0</td>\n",
       "      <td>262.0</td>\n",
       "      <td>318</td>\n",
       "      <td>22</td>\n",
       "      <td>7</td>\n",
       "      <td>2012</td>\n",
       "      <td>night</td>\n",
       "    </tr>\n",
       "  </tbody>\n",
       "</table>\n",
       "</div>"
      ],
      "text/plain": [
       "                     season  holiday  workingday  weather   temp   atemp  \\\n",
       "datetime                                                                   \n",
       "2011-12-07 08:00:00       4        0           1        3  18.04  21.970   \n",
       "2012-07-09 12:00:00       3        0           1        2  30.34  34.090   \n",
       "2011-07-27 11:00:00       3        0           1        1  32.80  34.850   \n",
       "2012-06-24 22:00:00       3        0           0        1  30.34  34.090   \n",
       "2011-08-15 11:00:00       3        0           1        2  29.52  34.090   \n",
       "2012-11-26 21:00:00       4        0           1        1  13.94  18.180   \n",
       "2012-07-11 12:00:00       3        0           1        2  31.98  34.850   \n",
       "2011-03-01 09:00:00       1        0           1        1   9.02   9.850   \n",
       "2011-09-26 04:00:00       4        0           1        2  25.42  27.275   \n",
       "2012-07-12 22:00:00       3        0           1        1  29.52  33.335   \n",
       "\n",
       "                     humidity  windspeed  casual  registered  count  \\\n",
       "datetime                                                              \n",
       "2011-12-07 08:00:00       100     0.0000     6.0        80.0     86   \n",
       "2012-07-09 12:00:00        58     8.9981    61.0       205.0    266   \n",
       "2011-07-27 11:00:00        31     0.0000     NaN         NaN    208   \n",
       "2012-06-24 22:00:00        55     7.0015     NaN         NaN    269   \n",
       "2011-08-15 11:00:00        62    16.9979    41.0       112.0    153   \n",
       "2012-11-26 21:00:00        49     0.0000     NaN         NaN    128   \n",
       "2012-07-11 12:00:00        43     0.0000    69.0       223.0    292   \n",
       "2011-03-01 09:00:00        55    27.9993     8.0       116.0    124   \n",
       "2011-09-26 04:00:00        94     6.0032     NaN         NaN      6   \n",
       "2012-07-12 22:00:00        51    11.0014    56.0       262.0    318   \n",
       "\n",
       "                     hour_of_day  month  year part_of_day  \n",
       "datetime                                                   \n",
       "2011-12-07 08:00:00            8     12  2011   afternoon  \n",
       "2012-07-09 12:00:00           12      7  2012   afternoon  \n",
       "2011-07-27 11:00:00           11      7  2011   afternoon  \n",
       "2012-06-24 22:00:00           22      6  2012       night  \n",
       "2011-08-15 11:00:00           11      8  2011   afternoon  \n",
       "2012-11-26 21:00:00           21     11  2012       night  \n",
       "2012-07-11 12:00:00           12      7  2012   afternoon  \n",
       "2011-03-01 09:00:00            9      3  2011   afternoon  \n",
       "2011-09-26 04:00:00            4      9  2011     morning  \n",
       "2012-07-12 22:00:00           22      7  2012       night  "
      ]
     },
     "execution_count": 38,
     "metadata": {},
     "output_type": "execute_result"
    }
   ],
   "source": [
    "bike_data.sample(10)"
   ]
  },
  {
   "cell_type": "code",
   "execution_count": null,
   "id": "ddcf2f86",
   "metadata": {},
   "outputs": [],
   "source": []
  },
  {
   "cell_type": "code",
   "execution_count": 39,
   "id": "56c82d80",
   "metadata": {},
   "outputs": [],
   "source": [
    "#1.Initialize empty list called sample_means()"
   ]
  },
  {
   "cell_type": "code",
   "execution_count": 40,
   "id": "22e565e4",
   "metadata": {},
   "outputs": [],
   "source": [
    "sample_means = []"
   ]
  },
  {
   "cell_type": "code",
   "execution_count": 41,
   "id": "33230cc4",
   "metadata": {},
   "outputs": [],
   "source": [
    "#2.Create a for loop that will loop 10,000 times"
   ]
  },
  {
   "cell_type": "code",
   "execution_count": 42,
   "id": "f5c42230",
   "metadata": {},
   "outputs": [],
   "source": [
    "bike_data_windspeed = bike_data['windspeed']"
   ]
  },
  {
   "cell_type": "code",
   "execution_count": 43,
   "id": "6bda2c7b",
   "metadata": {},
   "outputs": [
    {
     "data": {
      "text/plain": [
       "datetime\n",
       "2012-10-16 09:00:00    16.9979\n",
       "2012-11-13 09:00:00    22.0028\n",
       "2011-04-15 05:00:00     7.0015\n",
       "2011-05-03 16:00:00    31.0009\n",
       "2011-08-24 22:00:00    23.9994\n",
       "2012-01-09 21:00:00     0.0000\n",
       "2012-08-14 11:00:00     0.0000\n",
       "2012-07-08 11:00:00    19.9995\n",
       "2011-11-22 18:00:00     0.0000\n",
       "2012-07-18 22:00:00     6.0032\n",
       "Name: windspeed, dtype: float64"
      ]
     },
     "execution_count": 43,
     "metadata": {},
     "output_type": "execute_result"
    }
   ],
   "source": [
    "bike_data_windspeed.sample(10)"
   ]
  },
  {
   "cell_type": "code",
   "execution_count": 44,
   "id": "a7a05546",
   "metadata": {},
   "outputs": [],
   "source": [
    "#3.In each iteration using the pandas method .sample() sample 100 windspeeds with replacement"
   ]
  },
  {
   "cell_type": "code",
   "execution_count": 45,
   "id": "f584020d",
   "metadata": {},
   "outputs": [
    {
     "data": {
      "text/plain": [
       "11.930623"
      ]
     },
     "execution_count": 45,
     "metadata": {},
     "output_type": "execute_result"
    }
   ],
   "source": [
    "bike_data_windspeed.sample(n=100, replace=True).mean()"
   ]
  },
  {
   "cell_type": "code",
   "execution_count": 46,
   "id": "56a42941",
   "metadata": {},
   "outputs": [],
   "source": [
    "#4.Also in that same iteration take the mean of these 100 samples and then append it to the sample_means list"
   ]
  },
  {
   "cell_type": "code",
   "execution_count": 47,
   "id": "d248ed6c",
   "metadata": {},
   "outputs": [],
   "source": [
    "for i in range(10_000):\n",
    "    bootstrap_mean = bike_data_windspeed.sample(n=100, replace=True).mean()\n",
    "    sample_means.append(bootstrap_mean)"
   ]
  },
  {
   "cell_type": "code",
   "execution_count": 33,
   "id": "0fa5ce81",
   "metadata": {},
   "outputs": [
    {
     "data": {
      "text/plain": [
       "[12.750434999999998,\n",
       " 12.350043000000001,\n",
       " 12.440359,\n",
       " 12.560289000000003,\n",
       " 12.680219,\n",
       " 14.350394999999999,\n",
       " 12.820517,\n",
       " 12.640287000000002,\n",
       " 13.280137,\n",
       " 12.660453999999998]"
      ]
     },
     "execution_count": 33,
     "metadata": {},
     "output_type": "execute_result"
    }
   ],
   "source": [
    "sample_means[:10]"
   ]
  },
  {
   "cell_type": "code",
   "execution_count": null,
   "id": "c06ffe54",
   "metadata": {},
   "outputs": [],
   "source": [
    "#5.Using sns.displot plot the distribution of the sample_means list"
   ]
  },
  {
   "cell_type": "code",
   "execution_count": 53,
   "id": "8e5b290d",
   "metadata": {},
   "outputs": [
    {
     "data": {
      "image/png": "[encoded data removed]",
      "text/plain": [
       "<Figure size 500x500 with 1 Axes>"
      ]
     },
     "metadata": {},
     "output_type": "display_data"
    }
   ],
   "source": [
    "sns.displot(data=sample_means, bins=50, kde=True)\n",
    "plt.xlabel(\"Distribution of Sample Means\");"
   ]
  },
  {
   "cell_type": "code",
   "execution_count": null,
   "id": "aa537906",
   "metadata": {},
   "outputs": [],
   "source": [
    "#6.Convert sample_means list to pandas Series"
   ]
  },
  {
   "cell_type": "code",
   "execution_count": 55,
   "id": "f930ec43",
   "metadata": {},
   "outputs": [],
   "source": [
    "sample_means_series = pd.Series(sample_means)"
   ]
  },
  {
   "cell_type": "code",
   "execution_count": null,
   "id": "d5c713a3",
   "metadata": {},
   "outputs": [],
   "source": [
    "#7.Using pandas .quantile() calculation the upper (0.975) and lower (0.025) limits of the \n",
    "#confidence interval of the sample_means Series\n"
   ]
  },
  {
   "cell_type": "code",
   "execution_count": null,
   "id": "561c4eb8",
   "metadata": {},
   "outputs": [],
   "source": [
    "alpha = 0.95\n",
    "\n"
   ]
  },
  {
   "cell_type": "code",
   "execution_count": null,
   "id": "22631809",
   "metadata": {},
   "outputs": [],
   "source": []
  },
  {
   "cell_type": "code",
   "execution_count": null,
   "id": "97293a17",
   "metadata": {},
   "outputs": [],
   "source": []
  },
  {
   "cell_type": "code",
   "execution_count": null,
   "id": "fe025460",
   "metadata": {},
   "outputs": [],
   "source": []
  }
 ],
 "metadata": {
  "kernelspec": {
   "display_name": "Python 3 (ipykernel)",
   "language": "python",
   "name": "python3"
  },
  "language_info": {
   "codemirror_mode": {
    "name": "ipython",
    "version": 3
   },
   "file_extension": ".py",
   "mimetype": "text/x-python",
   "name": "python",
   "nbconvert_exporter": "python",
   "pygments_lexer": "ipython3",
   "version": "3.10.9"
  }
 },
 "nbformat": 4,
 "nbformat_minor": 5
}
