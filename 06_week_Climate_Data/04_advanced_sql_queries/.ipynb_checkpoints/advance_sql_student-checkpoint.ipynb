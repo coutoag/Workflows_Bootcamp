{
 "cells": [
  {
   "cell_type": "markdown",
   "id": "d151213c",
   "metadata": {},
   "source": [
    "## Advanced SQL Queries"
   ]
  },
  {
   "cell_type": "markdown",
   "id": "b8205685",
   "metadata": {},
   "source": [
    "### Warmer:\n",
    "\n",
    "Use SQL to accommplish the following task and answer the questions:\n",
    "\n",
    "1. Log in to a remote database with `psql` using the creditials made available by the instructor. \n",
    "2. How many tables are in the database? \n",
    "3. What kind of dataset is this? Which data types are there?\n",
    "4. Which tables have foreign keys?"
   ]
  },
  {
   "cell_type": "code",
   "execution_count": 3,
   "id": "fa2203f3",
   "metadata": {},
   "outputs": [],
   "source": [
    "import pandas as pd\n",
    "from sqlalchemy import create_engine\n",
    "from sqlalchemy import text"
   ]
  },
  {
   "cell_type": "code",
   "execution_count": 4,
   "id": "96f67b99",
   "metadata": {},
   "outputs": [],
   "source": [
    "from dotenv import dotenv_values\n",
    "\n",
    "config = dotenv_values(\".env\")"
   ]
  },
  {
   "cell_type": "code",
   "execution_count": 5,
   "id": "3ae851cb",
   "metadata": {},
   "outputs": [
    {
     "ename": "KeyError",
     "evalue": "'HOST'",
     "output_type": "error",
     "traceback": [
      "\u001b[0;31m---------------------------------------------------------------------------\u001b[0m",
      "\u001b[0;31mKeyError\u001b[0m                                  Traceback (most recent call last)",
      "Cell \u001b[0;32mIn[5], line 1\u001b[0m\n\u001b[0;32m----> 1\u001b[0m host \u001b[38;5;241m=\u001b[39m \u001b[43mconfig\u001b[49m\u001b[43m[\u001b[49m\u001b[38;5;124;43m'\u001b[39;49m\u001b[38;5;124;43mHOST\u001b[39;49m\u001b[38;5;124;43m'\u001b[39;49m\u001b[43m]\u001b[49m\n\u001b[1;32m      2\u001b[0m password \u001b[38;5;241m=\u001b[39m config[\u001b[38;5;124m'\u001b[39m\u001b[38;5;124mPASS\u001b[39m\u001b[38;5;124m'\u001b[39m]\n\u001b[1;32m      4\u001b[0m url \u001b[38;5;241m=\u001b[39m \u001b[38;5;124mf\u001b[39m\u001b[38;5;124m'\u001b[39m\u001b[38;5;124mpostgresql://postgres:\u001b[39m\u001b[38;5;132;01m{\u001b[39;00mpassword\u001b[38;5;132;01m}\u001b[39;00m\u001b[38;5;124m@\u001b[39m\u001b[38;5;132;01m{\u001b[39;00mhost\u001b[38;5;132;01m}\u001b[39;00m\u001b[38;5;124m:5432/northwind\u001b[39m\u001b[38;5;124m'\u001b[39m\n",
      "\u001b[0;31mKeyError\u001b[0m: 'HOST'"
     ]
    }
   ],
   "source": [
    "host = config['HOST']\n",
    "password = config['PASS']\n",
    "\n",
    "url = f'postgresql://postgres:{password}@{host}:5432/northwind'"
   ]
  },
  {
   "cell_type": "code",
   "execution_count": 5,
   "id": "3b5f8170",
   "metadata": {},
   "outputs": [],
   "source": [
    "engine = create_engine(url, echo=False)"
   ]
  },
  {
   "cell_type": "markdown",
   "id": "40bd0f5c",
   "metadata": {},
   "source": [
    "## Question: How many different suppliers are in the UK, the US and Italy?"
   ]
  },
  {
   "cell_type": "code",
   "execution_count": 14,
   "id": "53d75cbe",
   "metadata": {},
   "outputs": [],
   "source": [
    "with engine.begin() as conn:\n",
    "    result = conn.execute(text(\"\"\"\n",
    "        ...\n",
    "    \"\"\"))\n",
    "    data = result.all()\n",
    "print(data)"
   ]
  },
  {
   "cell_type": "markdown",
   "id": "369de96f",
   "metadata": {},
   "source": [
    "#### The `IN` operator"
   ]
  },
  {
   "cell_type": "markdown",
   "id": "655577c7",
   "metadata": {},
   "source": [
    "The query can be also written as:"
   ]
  },
  {
   "cell_type": "code",
   "execution_count": null,
   "id": "bc5e2ff5",
   "metadata": {},
   "outputs": [],
   "source": []
  },
  {
   "cell_type": "markdown",
   "id": "66560b20",
   "metadata": {},
   "source": [
    "## Question: how many expensive (>150), normal (20-150) and cheap (<20) products are in the database?"
   ]
  },
  {
   "cell_type": "markdown",
   "id": "7759b490",
   "metadata": {},
   "source": [
    "#### The `CASE` operator\n",
    "\n",
    "With the `CASE` operator we can run a conditional query. It’s like if/else in other programming languages.\n",
    "\n",
    "It can be used to bucketize a column:"
   ]
  },
  {
   "cell_type": "code",
   "execution_count": null,
   "id": "bec8589f",
   "metadata": {},
   "outputs": [],
   "source": [
    "with engine.begin() as conn:\n",
    "    result = conn.execute(text(\"\"\"\n",
    "        ...\n",
    "    \"\"\"))\n",
    "    data = result.all()\n",
    "data # the results can be easily put into a pandas dataframe for better readability pd.DataFrame(data)"
   ]
  },
  {
   "cell_type": "markdown",
   "id": "e2f8cef3",
   "metadata": {},
   "source": [
    "Or to quickly calculate a relative frequency count:"
   ]
  },
  {
   "cell_type": "code",
   "execution_count": null,
   "id": "3bf7277b",
   "metadata": {},
   "outputs": [],
   "source": [
    "with engine.begin() as conn:\n",
    "    result = conn.execute(text(\"\"\"\n",
    "        ...\n",
    "    \"\"\"))\n",
    "    data = result.all()\n",
    "data"
   ]
  },
  {
   "cell_type": "markdown",
   "id": "29983337",
   "metadata": {},
   "source": [
    "The `IN` operator can be used in both the `SELECT` and `WHERE` clause."
   ]
  },
  {
   "cell_type": "markdown",
   "id": "cf4e215d",
   "metadata": {},
   "source": [
    "## Question: how to rename a column in a table? (country -> area)"
   ]
  },
  {
   "cell_type": "markdown",
   "id": "31180eb2",
   "metadata": {},
   "source": [
    "#### Alias creation with `AS` \n",
    "\n",
    "With `AS` we can rename temporary tables and columns:"
   ]
  },
  {
   "cell_type": "code",
   "execution_count": null,
   "id": "ff549a36",
   "metadata": {},
   "outputs": [],
   "source": [
    "with engine.begin() as conn:\n",
    "    result = conn.execute(text(\"\"\"\n",
    "        ...\n",
    "    \"\"\"))\n",
    "    data = result.all()\n",
    "data # as does not really work when using SQLalchemy and not really necessary"
   ]
  },
  {
   "cell_type": "markdown",
   "id": "59021e5d",
   "metadata": {},
   "source": [
    "## Question: what is the proportion of nordic countries in the database? (save it in a column named proportion_nordics)"
   ]
  },
  {
   "cell_type": "code",
   "execution_count": null,
   "id": "f8a56ebd",
   "metadata": {},
   "outputs": [],
   "source": [
    "with engine.begin() as conn:\n",
    "    result = conn.execute(text(\"\"\"\n",
    "        ...\n",
    "    \"\"\"))\n",
    "    data = result.all()\n",
    "data"
   ]
  },
  {
   "cell_type": "markdown",
   "id": "ae54dc46",
   "metadata": {},
   "source": [
    "## Question: The unit price is provided in euros but we want to change it to cents. How to do it?"
   ]
  },
  {
   "cell_type": "markdown",
   "id": "2f141ec1",
   "metadata": {},
   "source": [
    "#### Type Casting with `CAST`\n",
    "\n",
    "Sometimes we need to explicitly change the type of a column. If we convert the temperature to degrees "
   ]
  },
  {
   "cell_type": "code",
   "execution_count": null,
   "id": "534b25d1",
   "metadata": {},
   "outputs": [],
   "source": [
    "with engine.begin() as conn:\n",
    "    result = conn.execute(text(\"\"\"\n",
    "     ...\n",
    "        \"\"\"))\n",
    "    data = result.all()\n",
    "data"
   ]
  },
  {
   "cell_type": "markdown",
   "id": "6f4074d2",
   "metadata": {},
   "source": [
    "We found prefer the results as actual cents and not including fractions of cents so:"
   ]
  },
  {
   "cell_type": "code",
   "execution_count": null,
   "id": "14e1e783",
   "metadata": {},
   "outputs": [],
   "source": [
    "with engine.begin() as conn:\n",
    "    result = conn.execute(text(\"\"\"\n",
    "    ...\n",
    "        \"\"\"))\n",
    "    data = result.all()\n",
    "data"
   ]
  },
  {
   "cell_type": "markdown",
   "id": "072c1a2e",
   "metadata": {},
   "source": [
    "## Question: We need to decode date column into day, month and year columns separately for the future analysis. How to do it?"
   ]
  },
  {
   "cell_type": "markdown",
   "id": "a7110fd6",
   "metadata": {},
   "source": [
    "#### Working with timestamps using `DATE_PART`\n",
    "\n",
    "As was seen in `pandas` a timestamps allows access to different time related features. The DATE_PART() function extracts a subfield from a date or time value. The syntax can be seen below: "
   ]
  },
  {
   "cell_type": "code",
   "execution_count": null,
   "id": "c57524dc",
   "metadata": {},
   "outputs": [],
   "source": [
    "with engine.begin() as conn:\n",
    "    result = conn.execute(text(\"\"\"\n",
    "    ...\n",
    "        \"\"\"))\n",
    "    data = result.all()\n",
    "data"
   ]
  },
  {
   "cell_type": "markdown",
   "id": "42875e0c",
   "metadata": {},
   "source": [
    "## Question: What is the monthly sum of the freight costs? Keep this information persistant by saving it in a derived table"
   ]
  },
  {
   "cell_type": "markdown",
   "id": "aa8ac256",
   "metadata": {},
   "source": [
    "#### Derived Tables\n",
    "\n",
    "The results of a `SELECT` statement is considered a derived table. It is a table derived from another table(s). The results can be made persistant using the `CREATE TABLE` statement in conjection with `SELECT`.\n",
    "\n",
    "Create a derived table that has the monthly freight costs for each month in the dataset:"
   ]
  },
  {
   "cell_type": "markdown",
   "id": "609cf34c",
   "metadata": {},
   "source": [
    "**Note:** Timestamps can also be used to filter easily using different comparison operators. "
   ]
  },
  {
   "cell_type": "code",
   "execution_count": 25,
   "id": "930aea70",
   "metadata": {},
   "outputs": [],
   "source": [
    "with engine.begin() as conn:\n",
    "    conn.execute(text(\"\"\"\n",
    "    ...\n",
    "        \"\"\"))"
   ]
  },
  {
   "cell_type": "code",
   "execution_count": null,
   "id": "1c0c910d",
   "metadata": {},
   "outputs": [],
   "source": [
    "## Question: "
   ]
  },
  {
   "cell_type": "markdown",
   "id": "4a146cd7",
   "metadata": {},
   "source": [
    "#### Sub queries\n",
    "\n",
    "The `FROM` clause can be used to specify a sub-query expression in SQL. The relation produced by the sub-query is then used as a new relation on which the outer query is applied. This can look a bit overwehlming but comes in handy. "
   ]
  },
  {
   "cell_type": "code",
   "execution_count": null,
   "id": "7a042325",
   "metadata": {},
   "outputs": [],
   "source": [
    "#Here the nested query finds the max order of each product and the main query finds the average of these per year\n",
    "\n",
    "with engine.begin() as conn:\n",
    "    result=conn.execute(text(\"\"\"\n",
    "        select bucket, \n",
    "            count(*)\n",
    "        from (\n",
    "            select unit_price, \n",
    "                unit_price * 100,\n",
    "                case \n",
    "                    when unit_price > 150 then 'expensive'\n",
    "                    when unit_price between 20 and 150 then 'normal'\n",
    "                    else 'cheap'\n",
    "                end as bucket\n",
    "            from order_details\n",
    "        ) as bucketed_data\n",
    "        group by bucket;\n",
    "    \"\"\"))\n",
    "    data = result.all()\n",
    "data # also look into None from the timestamp"
   ]
  },
  {
   "cell_type": "markdown",
   "id": "74c26743",
   "metadata": {},
   "source": [
    "## Working with strings\n",
    "\n",
    "There are many ways to manipulate and clean strings in SQL below are a few of the most used functions:\n",
    "\n",
    "command  |  description\n",
    "---|---|\n",
    "`CONCAT(str1,str2,...)`                       |   takes an argument list as an input and returns a concatenated string\n",
    "`LENGTH()`                      |     used to find the length of a string\n",
    "`LOWER()`               |     used to convert a string from upper case to lower case\n",
    "`UPPER()`                   |      used to convert a string from lower case to upper case\n",
    "`REPLACE()`           |     replace all occurrences of matching_string in the string\n",
    "`SUBSTRING(str FROM pos)`           |     returns a part of string\n",
    "`SPLIT_PART()`             |      splits a string on a specified delimiter and returns the nth substring"
   ]
  },
  {
   "cell_type": "markdown",
   "id": "9e766cdb",
   "metadata": {},
   "source": [
    "Here are some examples:"
   ]
  },
  {
   "cell_type": "markdown",
   "id": "0c9d0b2d",
   "metadata": {},
   "source": [
    "## Question: Store first name and last name of the employees in one column"
   ]
  },
  {
   "cell_type": "code",
   "execution_count": null,
   "id": "52e3acfe",
   "metadata": {},
   "outputs": [],
   "source": [
    "with engine.begin() as conn:\n",
    "    result=conn.execute(text(\"\"\"\n",
    "    ...\n",
    "    \"\"\"))\n",
    "    data = result.all()\n",
    "data"
   ]
  },
  {
   "cell_type": "markdown",
   "id": "d71bdc25",
   "metadata": {},
   "source": [
    "## Question: What is the distribution of the length of the first name of the employees?"
   ]
  },
  {
   "cell_type": "code",
   "execution_count": null,
   "id": "067c0694",
   "metadata": {},
   "outputs": [],
   "source": [
    "with engine.begin() as conn:\n",
    "    result=conn.execute(text(\"\"\"\n",
    "    ...\n",
    "    \"\"\"))\n",
    "    data = result.all()\n",
    "data"
   ]
  },
  {
   "cell_type": "markdown",
   "id": "2e4a1a52",
   "metadata": {},
   "source": [
    "## Question: Turn first names into lower case letters"
   ]
  },
  {
   "cell_type": "code",
   "execution_count": null,
   "id": "bfd072d2",
   "metadata": {},
   "outputs": [],
   "source": [
    "with engine.begin() as conn:\n",
    "    result=conn.execute(text(\"\"\"\n",
    "    ...\n",
    "    \"\"\"))\n",
    "    data = result.all()\n",
    "data"
   ]
  },
  {
   "cell_type": "markdown",
   "id": "6a9907df",
   "metadata": {},
   "source": [
    "## Question: Turn last names into upper case letters"
   ]
  },
  {
   "cell_type": "code",
   "execution_count": null,
   "id": "9925b23c",
   "metadata": {},
   "outputs": [],
   "source": [
    "with engine.begin() as conn:\n",
    "    result=conn.execute(text(\"\"\"\n",
    "    ...\n",
    "    \"\"\"))\n",
    "    data = result.all()\n",
    "data"
   ]
  },
  {
   "cell_type": "markdown",
   "id": "54f620b6",
   "metadata": {},
   "source": [
    "## Question: Simplify the titles of the US employees - there is no need to see 'Representative' in the title and 'Rep' is enough"
   ]
  },
  {
   "cell_type": "code",
   "execution_count": null,
   "id": "a673ef05",
   "metadata": {},
   "outputs": [],
   "source": [
    "with engine.begin() as conn:\n",
    "    result=conn.execute(text(\"\"\"\n",
    "    ...\n",
    "    \"\"\"))\n",
    "    data = result.all()\n",
    "data"
   ]
  },
  {
   "cell_type": "markdown",
   "id": "62ed5f2f",
   "metadata": {},
   "source": [
    "## Question: We want to display all employees names with full last name and the first letter of the first name"
   ]
  },
  {
   "cell_type": "code",
   "execution_count": null,
   "id": "82c5753b",
   "metadata": {
    "scrolled": true
   },
   "outputs": [],
   "source": [
    "with engine.begin() as conn:\n",
    "    result=conn.execute(text(\"\"\"\n",
    "    ...\n",
    "    \"\"\"))\n",
    "    data = result.all()\n",
    "data"
   ]
  },
  {
   "cell_type": "markdown",
   "id": "19a49efa",
   "metadata": {},
   "source": [
    "## Question: Look at the first 5 orders and display customer id, the year of the order date and the month of the order date"
   ]
  },
  {
   "cell_type": "code",
   "execution_count": null,
   "id": "75ae5d0b",
   "metadata": {},
   "outputs": [],
   "source": [
    "with engine.begin() as conn:\n",
    "    result=conn.execute(text(\"\"\"\n",
    "    ...\n",
    "    \"\"\"))\n",
    "    data = result.all()\n",
    "data"
   ]
  },
  {
   "cell_type": "code",
   "execution_count": null,
   "id": "dd64b1ef",
   "metadata": {},
   "outputs": [],
   "source": []
  }
 ],
 "metadata": {
  "kernelspec": {
   "display_name": "Python 3 (ipykernel)",
   "language": "python",
   "name": "python3"
  },
  "language_info": {
   "codemirror_mode": {
    "name": "ipython",
    "version": 3
   },
   "file_extension": ".py",
   "mimetype": "text/x-python",
   "name": "python",
   "nbconvert_exporter": "python",
   "pygments_lexer": "ipython3",
   "version": "3.10.9"
  }
 },
 "nbformat": 4,
 "nbformat_minor": 5
}
