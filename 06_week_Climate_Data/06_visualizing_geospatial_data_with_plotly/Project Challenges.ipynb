{
 "cells": [
  {
   "cell_type": "markdown",
   "id": "fb4020cf",
   "metadata": {},
   "source": [
    "## WEEK 6 - PLOTLY: INTRODUCTION - 15.02"
   ]
  },
  {
   "cell_type": "markdown",
   "id": "2b96892d",
   "metadata": {},
   "source": [
    "Project Challenges: Solve with SQLalchemy, pandas and plotly"
   ]
  },
  {
   "cell_type": "markdown",
   "id": "abd899e1",
   "metadata": {},
   "source": [
    "Import a subset of the climate yearly data into a Python DataFrame. To start with import only the data for one weather station.\n",
    "Create interactive temperature bar plots for this and other locations using plotly\n",
    "Plot multiple locations on one plot.\n",
    "Try other plot formats to get insight into the climate data"
   ]
  },
  {
   "cell_type": "code",
   "execution_count": null,
   "id": "ae94298f",
   "metadata": {},
   "outputs": [],
   "source": []
  },
  {
   "cell_type": "code",
   "execution_count": null,
   "id": "8147aa5d",
   "metadata": {},
   "outputs": [],
   "source": []
  },
  {
   "cell_type": "code",
   "execution_count": null,
   "id": "7ad1f96d",
   "metadata": {},
   "outputs": [],
   "source": []
  },
  {
   "cell_type": "code",
   "execution_count": null,
   "id": "40a0f0cc",
   "metadata": {},
   "outputs": [],
   "source": []
  },
  {
   "cell_type": "code",
   "execution_count": null,
   "id": "a2936784",
   "metadata": {},
   "outputs": [],
   "source": []
  },
  {
   "cell_type": "code",
   "execution_count": null,
   "id": "0a6af3b0",
   "metadata": {},
   "outputs": [],
   "source": []
  },
  {
   "cell_type": "code",
   "execution_count": null,
   "id": "a33f5bee",
   "metadata": {},
   "outputs": [],
   "source": []
  },
  {
   "cell_type": "code",
   "execution_count": null,
   "id": "a9c9b8a1",
   "metadata": {},
   "outputs": [],
   "source": []
  }
 ],
 "metadata": {
  "kernelspec": {
   "display_name": "Python 3 (ipykernel)",
   "language": "python",
   "name": "python3"
  },
  "language_info": {
   "codemirror_mode": {
    "name": "ipython",
    "version": 3
   },
   "file_extension": ".py",
   "mimetype": "text/x-python",
   "name": "python",
   "nbconvert_exporter": "python",
   "pygments_lexer": "ipython3",
   "version": "3.10.9"
  }
 },
 "nbformat": 4,
 "nbformat_minor": 5
}
